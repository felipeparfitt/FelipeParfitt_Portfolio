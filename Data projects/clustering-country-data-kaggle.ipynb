{
 "cells": [
  {
   "cell_type": "markdown",
   "metadata": {},
   "source": [
    "# <h1 style=\"font-family: Trebuchet MS; padding: 12px; font-size: 25px; color: #2D2926; text-align: center; line-height: 0.75;background-color: #41dcf7\"><b>Unsupervised Learning on Country Data</b><br></h1>"
   ]
  },
  {
   "cell_type": "markdown",
   "metadata": {},
   "source": [
    "### Objective:\n",
    "- To categorise the countries using socio-economic and health factors that determine the overall development of the country.\n",
    "\n",
    "### About organization:\n",
    "- HELP International is an international humanitarian NGO that is committed to fighting poverty and providing the people of backward countries with basic amenities and relief during the time of disasters and natural calamities.\n",
    "\n",
    "### Problem Statement:\n",
    "- HELP International have been able to raise around $ 10 million. Now the CEO of the NGO needs to decide how to use this money strategically and effectively. So, CEO has to make decision to choose the countries that are in the direst need of aid. Hence, your Job as a Data scientist is to categorise the countries using some socio-economic and health factors that determine the overall development of the country. Then you need to suggest the countries which the CEO needs to focus on the most.\n",
    "\n",
    "### Links:\n",
    "[Unsupervised Learning on Country Data (Kaggle)](https://www.kaggle.com/datasets/rohan0301/unsupervised-learning-on-country-data)\n",
    "\n",
    "[Based on this notebook](https://www.kaggle.com/code/tanmay111999/clustering-pca-k-means-dbscan-hierarchical)\n",
    "\n"
   ]
  },
  {
   "cell_type": "markdown",
   "metadata": {},
   "source": [
    "# <center><div style=\"font-family: Trebuchet MS; background-color: #41dcf7; color: #2D2926; padding: 12px; line-height: 1;\">Data Preprocessing/Information</div></center>"
   ]
  },
  {
   "cell_type": "markdown",
   "metadata": {},
   "source": [
    "### Importing Libraries:"
   ]
  },
  {
   "cell_type": "code",
   "execution_count": 1,
   "metadata": {
    "_cell_guid": "b1076dfc-b9ad-4769-8c92-a6c4dae69d19",
    "_uuid": "8f2839f25d086af736a60e9eeb907d3b93b6e0e5",
    "execution": {
     "iopub.execute_input": "2023-04-26T19:06:02.775169Z",
     "iopub.status.busy": "2023-04-26T19:06:02.774694Z",
     "iopub.status.idle": "2023-04-26T19:06:02.782797Z",
     "shell.execute_reply": "2023-04-26T19:06:02.781351Z",
     "shell.execute_reply.started": "2023-04-26T19:06:02.775130Z"
    }
   },
   "outputs": [
    {
     "data": {
      "text/html": [
       "        <script type=\"text/javascript\">\n",
       "        window.PlotlyConfig = {MathJaxConfig: 'local'};\n",
       "        if (window.MathJax) {MathJax.Hub.Config({SVG: {font: \"STIX-Web\"}});}\n",
       "        if (typeof require !== 'undefined') {\n",
       "        require.undef(\"plotly\");\n",
       "        requirejs.config({\n",
       "            paths: {\n",
       "                'plotly': ['https://cdn.plot.ly/plotly-2.9.0.min']\n",
       "            }\n",
       "        });\n",
       "        require(['plotly'], function(Plotly) {\n",
       "            window._Plotly = Plotly;\n",
       "        });\n",
       "        }\n",
       "        </script>\n",
       "        "
      ]
     },
     "metadata": {},
     "output_type": "display_data"
    }
   ],
   "source": [
    "import numpy as np \n",
    "import pandas as pd \n",
    "import matplotlib.pyplot as plt\n",
    "import seaborn as sns\n",
    "import plotly.express as px\n",
    "import plotly.offline as pyo\n",
    "pyo.init_notebook_mode(connected=True)\n",
    "import plotly.graph_objs as go\n",
    "import matplotlib.cm as cm\n",
    "from scipy import stats\n",
    "from sklearn.preprocessing import MinMaxScaler,StandardScaler\n",
    "from sklearn.cluster import KMeans\n",
    "from sklearn.decomposition import PCA\n",
    "from sklearn.manifold import TSNE\n",
    "from sklearn.metrics import silhouette_score, silhouette_samples\n",
    "import warnings\n",
    "warnings.filterwarnings('ignore')"
   ]
  },
  {
   "cell_type": "code",
   "execution_count": 2,
   "metadata": {
    "execution": {
     "iopub.execute_input": "2023-04-26T19:06:02.855857Z",
     "iopub.status.busy": "2023-04-26T19:06:02.855385Z",
     "iopub.status.idle": "2023-04-26T19:06:02.889892Z",
     "shell.execute_reply": "2023-04-26T19:06:02.888352Z",
     "shell.execute_reply.started": "2023-04-26T19:06:02.855815Z"
    }
   },
   "outputs": [
    {
     "data": {
      "text/html": [
       "<div>\n",
       "<style scoped>\n",
       "    .dataframe tbody tr th:only-of-type {\n",
       "        vertical-align: middle;\n",
       "    }\n",
       "\n",
       "    .dataframe tbody tr th {\n",
       "        vertical-align: top;\n",
       "    }\n",
       "\n",
       "    .dataframe thead th {\n",
       "        text-align: right;\n",
       "    }\n",
       "</style>\n",
       "<table border=\"1\" class=\"dataframe\">\n",
       "  <thead>\n",
       "    <tr style=\"text-align: right;\">\n",
       "      <th></th>\n",
       "      <th>country</th>\n",
       "      <th>child_mort</th>\n",
       "      <th>exports</th>\n",
       "      <th>health</th>\n",
       "      <th>imports</th>\n",
       "      <th>income</th>\n",
       "      <th>inflation</th>\n",
       "      <th>life_expec</th>\n",
       "      <th>total_fer</th>\n",
       "      <th>gdpp</th>\n",
       "    </tr>\n",
       "  </thead>\n",
       "  <tbody>\n",
       "    <tr>\n",
       "      <th>0</th>\n",
       "      <td>Afghanistan</td>\n",
       "      <td>90.2</td>\n",
       "      <td>10.0</td>\n",
       "      <td>7.58</td>\n",
       "      <td>44.9</td>\n",
       "      <td>1610</td>\n",
       "      <td>9.44</td>\n",
       "      <td>56.2</td>\n",
       "      <td>5.82</td>\n",
       "      <td>553</td>\n",
       "    </tr>\n",
       "    <tr>\n",
       "      <th>1</th>\n",
       "      <td>Albania</td>\n",
       "      <td>16.6</td>\n",
       "      <td>28.0</td>\n",
       "      <td>6.55</td>\n",
       "      <td>48.6</td>\n",
       "      <td>9930</td>\n",
       "      <td>4.49</td>\n",
       "      <td>76.3</td>\n",
       "      <td>1.65</td>\n",
       "      <td>4090</td>\n",
       "    </tr>\n",
       "    <tr>\n",
       "      <th>2</th>\n",
       "      <td>Algeria</td>\n",
       "      <td>27.3</td>\n",
       "      <td>38.4</td>\n",
       "      <td>4.17</td>\n",
       "      <td>31.4</td>\n",
       "      <td>12900</td>\n",
       "      <td>16.10</td>\n",
       "      <td>76.5</td>\n",
       "      <td>2.89</td>\n",
       "      <td>4460</td>\n",
       "    </tr>\n",
       "    <tr>\n",
       "      <th>3</th>\n",
       "      <td>Angola</td>\n",
       "      <td>119.0</td>\n",
       "      <td>62.3</td>\n",
       "      <td>2.85</td>\n",
       "      <td>42.9</td>\n",
       "      <td>5900</td>\n",
       "      <td>22.40</td>\n",
       "      <td>60.1</td>\n",
       "      <td>6.16</td>\n",
       "      <td>3530</td>\n",
       "    </tr>\n",
       "    <tr>\n",
       "      <th>4</th>\n",
       "      <td>Antigua and Barbuda</td>\n",
       "      <td>10.3</td>\n",
       "      <td>45.5</td>\n",
       "      <td>6.03</td>\n",
       "      <td>58.9</td>\n",
       "      <td>19100</td>\n",
       "      <td>1.44</td>\n",
       "      <td>76.8</td>\n",
       "      <td>2.13</td>\n",
       "      <td>12200</td>\n",
       "    </tr>\n",
       "  </tbody>\n",
       "</table>\n",
       "</div>"
      ],
      "text/plain": [
       "               country  child_mort  exports  health  imports  income  \\\n",
       "0          Afghanistan        90.2     10.0    7.58     44.9    1610   \n",
       "1              Albania        16.6     28.0    6.55     48.6    9930   \n",
       "2              Algeria        27.3     38.4    4.17     31.4   12900   \n",
       "3               Angola       119.0     62.3    2.85     42.9    5900   \n",
       "4  Antigua and Barbuda        10.3     45.5    6.03     58.9   19100   \n",
       "\n",
       "   inflation  life_expec  total_fer   gdpp  \n",
       "0       9.44        56.2       5.82    553  \n",
       "1       4.49        76.3       1.65   4090  \n",
       "2      16.10        76.5       2.89   4460  \n",
       "3      22.40        60.1       6.16   3530  \n",
       "4       1.44        76.8       2.13  12200  "
      ]
     },
     "execution_count": 2,
     "metadata": {},
     "output_type": "execute_result"
    }
   ],
   "source": [
    "df = pd.read_csv('Country-data.csv')\n",
    "df.head()"
   ]
  },
  {
   "cell_type": "code",
   "execution_count": 3,
   "metadata": {
    "execution": {
     "iopub.execute_input": "2023-04-26T19:06:02.922765Z",
     "iopub.status.busy": "2023-04-26T19:06:02.922304Z",
     "iopub.status.idle": "2023-04-26T19:06:02.940466Z",
     "shell.execute_reply": "2023-04-26T19:06:02.939038Z",
     "shell.execute_reply.started": "2023-04-26T19:06:02.922727Z"
    }
   },
   "outputs": [
    {
     "name": "stdout",
     "output_type": "stream",
     "text": [
      "<class 'pandas.core.frame.DataFrame'>\n",
      "RangeIndex: 167 entries, 0 to 166\n",
      "Data columns (total 10 columns):\n",
      " #   Column      Non-Null Count  Dtype  \n",
      "---  ------      --------------  -----  \n",
      " 0   country     167 non-null    object \n",
      " 1   child_mort  167 non-null    float64\n",
      " 2   exports     167 non-null    float64\n",
      " 3   health      167 non-null    float64\n",
      " 4   imports     167 non-null    float64\n",
      " 5   income      167 non-null    int64  \n",
      " 6   inflation   167 non-null    float64\n",
      " 7   life_expec  167 non-null    float64\n",
      " 8   total_fer   167 non-null    float64\n",
      " 9   gdpp        167 non-null    int64  \n",
      "dtypes: float64(7), int64(2), object(1)\n",
      "memory usage: 13.2+ KB\n"
     ]
    }
   ],
   "source": [
    "df.info()"
   ]
  },
  {
   "cell_type": "code",
   "execution_count": 4,
   "metadata": {
    "execution": {
     "iopub.execute_input": "2023-04-26T19:06:02.999510Z",
     "iopub.status.busy": "2023-04-26T19:06:02.998362Z",
     "iopub.status.idle": "2023-04-26T19:06:03.043686Z",
     "shell.execute_reply": "2023-04-26T19:06:03.042302Z",
     "shell.execute_reply.started": "2023-04-26T19:06:02.999459Z"
    }
   },
   "outputs": [
    {
     "data": {
      "text/html": [
       "<div>\n",
       "<style scoped>\n",
       "    .dataframe tbody tr th:only-of-type {\n",
       "        vertical-align: middle;\n",
       "    }\n",
       "\n",
       "    .dataframe tbody tr th {\n",
       "        vertical-align: top;\n",
       "    }\n",
       "\n",
       "    .dataframe thead th {\n",
       "        text-align: right;\n",
       "    }\n",
       "</style>\n",
       "<table border=\"1\" class=\"dataframe\">\n",
       "  <thead>\n",
       "    <tr style=\"text-align: right;\">\n",
       "      <th></th>\n",
       "      <th>child_mort</th>\n",
       "      <th>exports</th>\n",
       "      <th>health</th>\n",
       "      <th>imports</th>\n",
       "      <th>income</th>\n",
       "      <th>inflation</th>\n",
       "      <th>life_expec</th>\n",
       "      <th>total_fer</th>\n",
       "      <th>gdpp</th>\n",
       "    </tr>\n",
       "  </thead>\n",
       "  <tbody>\n",
       "    <tr>\n",
       "      <th>count</th>\n",
       "      <td>167.000000</td>\n",
       "      <td>167.000000</td>\n",
       "      <td>167.000000</td>\n",
       "      <td>167.000000</td>\n",
       "      <td>167.000000</td>\n",
       "      <td>167.000000</td>\n",
       "      <td>167.000000</td>\n",
       "      <td>167.000000</td>\n",
       "      <td>167.000000</td>\n",
       "    </tr>\n",
       "    <tr>\n",
       "      <th>mean</th>\n",
       "      <td>38.270060</td>\n",
       "      <td>41.108976</td>\n",
       "      <td>6.815689</td>\n",
       "      <td>46.890215</td>\n",
       "      <td>17144.688623</td>\n",
       "      <td>7.781832</td>\n",
       "      <td>70.555689</td>\n",
       "      <td>2.947964</td>\n",
       "      <td>12964.155689</td>\n",
       "    </tr>\n",
       "    <tr>\n",
       "      <th>std</th>\n",
       "      <td>40.328931</td>\n",
       "      <td>27.412010</td>\n",
       "      <td>2.746837</td>\n",
       "      <td>24.209589</td>\n",
       "      <td>19278.067698</td>\n",
       "      <td>10.570704</td>\n",
       "      <td>8.893172</td>\n",
       "      <td>1.513848</td>\n",
       "      <td>18328.704809</td>\n",
       "    </tr>\n",
       "    <tr>\n",
       "      <th>min</th>\n",
       "      <td>2.600000</td>\n",
       "      <td>0.109000</td>\n",
       "      <td>1.810000</td>\n",
       "      <td>0.065900</td>\n",
       "      <td>609.000000</td>\n",
       "      <td>-4.210000</td>\n",
       "      <td>32.100000</td>\n",
       "      <td>1.150000</td>\n",
       "      <td>231.000000</td>\n",
       "    </tr>\n",
       "    <tr>\n",
       "      <th>25%</th>\n",
       "      <td>8.250000</td>\n",
       "      <td>23.800000</td>\n",
       "      <td>4.920000</td>\n",
       "      <td>30.200000</td>\n",
       "      <td>3355.000000</td>\n",
       "      <td>1.810000</td>\n",
       "      <td>65.300000</td>\n",
       "      <td>1.795000</td>\n",
       "      <td>1330.000000</td>\n",
       "    </tr>\n",
       "    <tr>\n",
       "      <th>50%</th>\n",
       "      <td>19.300000</td>\n",
       "      <td>35.000000</td>\n",
       "      <td>6.320000</td>\n",
       "      <td>43.300000</td>\n",
       "      <td>9960.000000</td>\n",
       "      <td>5.390000</td>\n",
       "      <td>73.100000</td>\n",
       "      <td>2.410000</td>\n",
       "      <td>4660.000000</td>\n",
       "    </tr>\n",
       "    <tr>\n",
       "      <th>75%</th>\n",
       "      <td>62.100000</td>\n",
       "      <td>51.350000</td>\n",
       "      <td>8.600000</td>\n",
       "      <td>58.750000</td>\n",
       "      <td>22800.000000</td>\n",
       "      <td>10.750000</td>\n",
       "      <td>76.800000</td>\n",
       "      <td>3.880000</td>\n",
       "      <td>14050.000000</td>\n",
       "    </tr>\n",
       "    <tr>\n",
       "      <th>max</th>\n",
       "      <td>208.000000</td>\n",
       "      <td>200.000000</td>\n",
       "      <td>17.900000</td>\n",
       "      <td>174.000000</td>\n",
       "      <td>125000.000000</td>\n",
       "      <td>104.000000</td>\n",
       "      <td>82.800000</td>\n",
       "      <td>7.490000</td>\n",
       "      <td>105000.000000</td>\n",
       "    </tr>\n",
       "  </tbody>\n",
       "</table>\n",
       "</div>"
      ],
      "text/plain": [
       "       child_mort     exports      health     imports         income  \\\n",
       "count  167.000000  167.000000  167.000000  167.000000     167.000000   \n",
       "mean    38.270060   41.108976    6.815689   46.890215   17144.688623   \n",
       "std     40.328931   27.412010    2.746837   24.209589   19278.067698   \n",
       "min      2.600000    0.109000    1.810000    0.065900     609.000000   \n",
       "25%      8.250000   23.800000    4.920000   30.200000    3355.000000   \n",
       "50%     19.300000   35.000000    6.320000   43.300000    9960.000000   \n",
       "75%     62.100000   51.350000    8.600000   58.750000   22800.000000   \n",
       "max    208.000000  200.000000   17.900000  174.000000  125000.000000   \n",
       "\n",
       "        inflation  life_expec   total_fer           gdpp  \n",
       "count  167.000000  167.000000  167.000000     167.000000  \n",
       "mean     7.781832   70.555689    2.947964   12964.155689  \n",
       "std     10.570704    8.893172    1.513848   18328.704809  \n",
       "min     -4.210000   32.100000    1.150000     231.000000  \n",
       "25%      1.810000   65.300000    1.795000    1330.000000  \n",
       "50%      5.390000   73.100000    2.410000    4660.000000  \n",
       "75%     10.750000   76.800000    3.880000   14050.000000  \n",
       "max    104.000000   82.800000    7.490000  105000.000000  "
      ]
     },
     "execution_count": 4,
     "metadata": {},
     "output_type": "execute_result"
    }
   ],
   "source": [
    "df.describe()"
   ]
  },
  {
   "cell_type": "code",
   "execution_count": 5,
   "metadata": {
    "execution": {
     "iopub.execute_input": "2023-04-26T19:06:03.074867Z",
     "iopub.status.busy": "2023-04-26T19:06:03.074454Z",
     "iopub.status.idle": "2023-04-26T19:06:03.089504Z",
     "shell.execute_reply": "2023-04-26T19:06:03.088296Z",
     "shell.execute_reply.started": "2023-04-26T19:06:03.074831Z"
    }
   },
   "outputs": [
    {
     "data": {
      "text/html": [
       "<div>\n",
       "<style scoped>\n",
       "    .dataframe tbody tr th:only-of-type {\n",
       "        vertical-align: middle;\n",
       "    }\n",
       "\n",
       "    .dataframe tbody tr th {\n",
       "        vertical-align: top;\n",
       "    }\n",
       "\n",
       "    .dataframe thead th {\n",
       "        text-align: right;\n",
       "    }\n",
       "</style>\n",
       "<table border=\"1\" class=\"dataframe\">\n",
       "  <thead>\n",
       "    <tr style=\"text-align: right;\">\n",
       "      <th></th>\n",
       "      <th>country</th>\n",
       "      <th>child_mort</th>\n",
       "      <th>exports</th>\n",
       "      <th>health</th>\n",
       "      <th>imports</th>\n",
       "      <th>income</th>\n",
       "      <th>inflation</th>\n",
       "      <th>life_expec</th>\n",
       "      <th>total_fer</th>\n",
       "      <th>gdpp</th>\n",
       "    </tr>\n",
       "  </thead>\n",
       "  <tbody>\n",
       "    <tr>\n",
       "      <th>0</th>\n",
       "      <td>0</td>\n",
       "      <td>0</td>\n",
       "      <td>0</td>\n",
       "      <td>0</td>\n",
       "      <td>0</td>\n",
       "      <td>0</td>\n",
       "      <td>0</td>\n",
       "      <td>0</td>\n",
       "      <td>0</td>\n",
       "      <td>0</td>\n",
       "    </tr>\n",
       "  </tbody>\n",
       "</table>\n",
       "</div>"
      ],
      "text/plain": [
       "   country  child_mort  exports  health  imports  income  inflation  \\\n",
       "0        0           0        0       0        0       0          0   \n",
       "\n",
       "   life_expec  total_fer  gdpp  \n",
       "0           0          0     0  "
      ]
     },
     "execution_count": 5,
     "metadata": {},
     "output_type": "execute_result"
    }
   ],
   "source": [
    "df.isna().sum().to_frame().T"
   ]
  },
  {
   "cell_type": "markdown",
   "metadata": {},
   "source": [
    "# <center><div style=\"font-family: Trebuchet MS; background-color: #41dcf7; color: #2D2926; padding: 12px; line-height: 1;\">Exploratory Data Analysis</div></center>"
   ]
  },
  {
   "cell_type": "code",
   "execution_count": 6,
   "metadata": {
    "execution": {
     "iopub.execute_input": "2023-04-26T19:06:03.171243Z",
     "iopub.status.busy": "2023-04-26T19:06:03.170754Z",
     "iopub.status.idle": "2023-04-26T19:06:03.238519Z",
     "shell.execute_reply": "2023-04-26T19:06:03.237026Z",
     "shell.execute_reply.started": "2023-04-26T19:06:03.171201Z"
    }
   },
   "outputs": [
    {
     "data": {
      "application/vnd.plotly.v1+json": {
       "config": {
        "linkText": "Export to plot.ly",
        "plotlyServerURL": "https://plot.ly",
        "showLink": false
       },
       "data": [
        {
         "dimensions": [
          {
           "axis": {
            "matches": true
           },
           "label": "child_mort",
           "values": [
            90.2,
            16.6,
            27.3,
            119,
            10.3,
            14.5,
            18.1,
            4.8,
            4.3,
            39.2,
            13.8,
            8.6,
            49.4,
            14.2,
            5.5,
            4.5,
            18.8,
            111,
            42.7,
            46.6,
            6.9,
            52.5,
            19.8,
            10.5,
            10.8,
            116,
            93.6,
            44.4,
            108,
            5.6,
            26.5,
            149,
            150,
            8.7,
            15.7,
            18.6,
            88.2,
            116,
            63.9,
            10.2,
            111,
            5.5,
            3.6,
            3.4,
            4.1,
            34.4,
            25.1,
            29.1,
            19.2,
            111,
            55.2,
            4.5,
            24.1,
            3,
            4.2,
            63.7,
            80.3,
            16.5,
            4.2,
            74.7,
            3.9,
            14.6,
            35.4,
            109,
            114,
            37.6,
            208,
            6,
            2.6,
            58.8,
            33.3,
            19.3,
            36.9,
            4.2,
            4.6,
            4,
            18.1,
            3.2,
            21.1,
            21.5,
            62.2,
            62.7,
            10.8,
            29.6,
            78.9,
            7.8,
            10.3,
            99.7,
            89.3,
            16.6,
            6.1,
            2.8,
            10.4,
            62.2,
            90.5,
            7.9,
            13.2,
            137,
            6.8,
            97.4,
            15,
            40,
            17.2,
            26.1,
            6.8,
            33.5,
            101,
            64.4,
            56,
            47,
            4.5,
            6.2,
            123,
            130,
            3.2,
            11.7,
            92.1,
            19.7,
            24.1,
            20.3,
            31.9,
            6,
            3.9,
            9,
            11.5,
            10,
            63.6,
            18.9,
            15.7,
            66.8,
            7.6,
            14.4,
            160,
            2.8,
            7,
            3.2,
            28.1,
            53.7,
            4.1,
            3.8,
            11.2,
            20.7,
            76.7,
            24.1,
            3,
            4.5,
            52.4,
            71.9,
            14.9,
            62.6,
            90.3,
            17.4,
            17.4,
            19.1,
            62,
            81,
            11.7,
            8.6,
            5.2,
            7.3,
            10.6,
            36.3,
            29.2,
            17.1,
            23.3,
            56.3,
            83.1
           ]
          },
          {
           "axis": {
            "matches": true
           },
           "label": "exports",
           "values": [
            10,
            28,
            38.4,
            62.3,
            45.5,
            18.9,
            20.8,
            19.8,
            51.3,
            54.3,
            35,
            69.5,
            16,
            39.5,
            51.4,
            76.4,
            58.2,
            23.8,
            42.5,
            41.2,
            29.7,
            43.6,
            10.7,
            67.4,
            50.2,
            19.2,
            8.92,
            54.1,
            22.2,
            29.1,
            32.7,
            11.8,
            36.8,
            37.7,
            26.3,
            15.9,
            16.5,
            41.1,
            85.1,
            33.2,
            50.6,
            37.6,
            50.2,
            66,
            50.5,
            22.7,
            27.9,
            21.3,
            26.9,
            85.8,
            4.79,
            75.1,
            57.8,
            38.7,
            26.8,
            57.7,
            23.8,
            35,
            42.3,
            29.5,
            22.1,
            23.8,
            25.8,
            30.3,
            14.9,
            51.4,
            15.3,
            81.8,
            53.4,
            22.6,
            24.3,
            24.4,
            39.4,
            103,
            35,
            25.2,
            31.3,
            15,
            48.3,
            44.2,
            20.7,
            13.3,
            66.7,
            51.6,
            35.4,
            53.7,
            35.8,
            39.4,
            19.1,
            65.6,
            65.3,
            175,
            39.8,
            25,
            22.8,
            86.9,
            77.6,
            22.8,
            153,
            50.7,
            51.2,
            23.5,
            39.2,
            46.7,
            37,
            32.2,
            31.5,
            0.109,
            47.8,
            9.58,
            72,
            30.3,
            22.2,
            25.3,
            39.7,
            65.7,
            13.5,
            70,
            55.1,
            27.8,
            34.8,
            40.1,
            29.9,
            62.3,
            32.6,
            29.2,
            12,
            29.2,
            49.6,
            24.9,
            32.9,
            93.8,
            16.8,
            200,
            76.3,
            64.3,
            49.3,
            28.6,
            49.4,
            25.5,
            19.6,
            26.9,
            19.7,
            52.5,
            46.2,
            64,
            14.9,
            18.7,
            66.5,
            2.2,
            40.2,
            12.4,
            50.5,
            20.4,
            76.3,
            17.1,
            47.1,
            77.7,
            28.2,
            12.4,
            26.3,
            31.7,
            46.6,
            28.5,
            72,
            30,
            37
           ]
          },
          {
           "axis": {
            "matches": true
           },
           "label": "health",
           "values": [
            7.58,
            6.55,
            4.17,
            2.85,
            6.03,
            8.1,
            4.4,
            8.73,
            11,
            5.88,
            7.89,
            4.97,
            3.52,
            7.97,
            5.61,
            10.7,
            5.2,
            4.1,
            5.2,
            4.84,
            11.1,
            8.3,
            9.01,
            2.84,
            6.87,
            6.74,
            11.6,
            5.68,
            5.13,
            11.3,
            4.09,
            3.98,
            4.53,
            7.96,
            5.07,
            7.59,
            4.51,
            7.91,
            2.46,
            10.9,
            5.3,
            7.76,
            5.97,
            7.88,
            11.4,
            6.22,
            8.06,
            4.66,
            6.91,
            4.48,
            2.66,
            6.03,
            4.86,
            8.95,
            11.9,
            3.5,
            5.69,
            10.1,
            11.6,
            5.22,
            10.3,
            5.86,
            6.85,
            4.93,
            8.5,
            5.38,
            6.91,
            7.33,
            9.4,
            4.05,
            2.61,
            5.6,
            8.41,
            9.19,
            7.63,
            9.53,
            4.81,
            9.49,
            8.04,
            4.29,
            4.75,
            11.3,
            2.63,
            6.18,
            4.47,
            6.68,
            7.03,
            11.1,
            11.8,
            3.88,
            7.04,
            7.77,
            7.09,
            3.77,
            6.59,
            4.39,
            6.33,
            4.98,
            8.65,
            4.41,
            6,
            14.2,
            11.7,
            5.44,
            9.11,
            5.2,
            5.21,
            1.97,
            6.78,
            5.25,
            11.9,
            10.1,
            5.16,
            5.07,
            9.48,
            2.77,
            2.2,
            8.1,
            5.87,
            5.08,
            3.61,
            7.46,
            11,
            1.81,
            5.58,
            5.08,
            10.5,
            6.47,
            4.29,
            5.66,
            10.4,
            3.4,
            13.1,
            3.96,
            8.79,
            9.41,
            8.55,
            8.94,
            6.93,
            9.54,
            2.94,
            4.47,
            6.32,
            7.01,
            9.63,
            11.5,
            5.98,
            6.01,
            3.88,
            9.12,
            7.65,
            5.07,
            6.21,
            6.74,
            2.5,
            9.01,
            7.72,
            3.66,
            9.64,
            17.9,
            8.35,
            5.81,
            5.25,
            4.91,
            6.84,
            5.18,
            5.89
           ]
          },
          {
           "axis": {
            "matches": true
           },
           "label": "imports",
           "values": [
            44.9,
            48.6,
            31.4,
            42.9,
            58.9,
            16,
            45.3,
            20.9,
            47.8,
            20.7,
            43.7,
            50.9,
            21.8,
            48.7,
            64.5,
            74.7,
            57.5,
            37.2,
            70.7,
            34.3,
            51.3,
            51.3,
            11.8,
            28,
            53,
            29.6,
            39.2,
            59.5,
            27,
            31,
            61.8,
            26.5,
            43.5,
            31.3,
            22.6,
            17.8,
            51.7,
            49.6,
            54.7,
            35,
            43.3,
            38.1,
            57.5,
            62.9,
            43.6,
            33.3,
            32.4,
            26.6,
            46.6,
            58.9,
            23.3,
            68.7,
            63.9,
            37.4,
            28.1,
            18.9,
            42.7,
            52.8,
            37.1,
            45.9,
            30.7,
            49.2,
            36.3,
            43.2,
            35.2,
            79.1,
            64.7,
            76.5,
            43.3,
            27.1,
            22.4,
            19.4,
            34.1,
            86.5,
            32.9,
            27.2,
            49.6,
            13.6,
            69,
            29.9,
            33.6,
            79.9,
            30.4,
            81.7,
            49.3,
            55.1,
            60.2,
            101,
            92.6,
            42.1,
            67.2,
            142,
            58.1,
            43,
            34.9,
            71,
            65.4,
            35.1,
            154,
            61.2,
            62.2,
            81,
            78.5,
            56.7,
            62.7,
            43,
            46.2,
            0.0659,
            60.7,
            36.4,
            63.6,
            28,
            49.1,
            17.4,
            28.5,
            41.2,
            19.4,
            78.2,
            51.5,
            23.8,
            36.6,
            42.1,
            37.4,
            23.8,
            38.8,
            21.1,
            30,
            53.1,
            33,
            40.3,
            47.9,
            108,
            34.5,
            174,
            77.8,
            62.9,
            81.2,
            27.4,
            46.2,
            26.8,
            26.8,
            57.1,
            17.2,
            38.4,
            40.7,
            53.3,
            58.6,
            29.1,
            60.8,
            27.8,
            57.3,
            60.3,
            55.3,
            25.5,
            44.5,
            28.6,
            51.1,
            63.6,
            30.8,
            15.8,
            25.4,
            28.5,
            52.7,
            17.6,
            80.2,
            34.4,
            30.9
           ]
          },
          {
           "axis": {
            "matches": true
           },
           "label": "income",
           "values": [
            1610,
            9930,
            12900,
            5900,
            19100,
            18700,
            6700,
            41400,
            43200,
            16000,
            22900,
            41100,
            2440,
            15300,
            16200,
            41100,
            7880,
            1820,
            6420,
            5410,
            9720,
            13300,
            14500,
            80600,
            15300,
            1430,
            764,
            2520,
            2660,
            40700,
            5830,
            888,
            1930,
            19400,
            9530,
            10900,
            1410,
            609,
            5190,
            13000,
            2690,
            20100,
            33900,
            28300,
            44000,
            11100,
            9350,
            9860,
            7300,
            33700,
            1420,
            22700,
            7350,
            39800,
            36900,
            15400,
            1660,
            6730,
            40400,
            3060,
            28700,
            11200,
            6710,
            1190,
            1390,
            5840,
            1500,
            22300,
            38800,
            4410,
            8430,
            17400,
            12700,
            45700,
            29600,
            36200,
            8000,
            35800,
            9470,
            20100,
            2480,
            1730,
            75200,
            2790,
            3980,
            18300,
            16300,
            2380,
            700,
            29600,
            21100,
            91700,
            11400,
            1390,
            1030,
            21100,
            10500,
            1870,
            28300,
            3320,
            15900,
            3340,
            3910,
            7710,
            14000,
            6440,
            918,
            3720,
            8460,
            1990,
            45500,
            32300,
            814,
            5150,
            62300,
            45300,
            4280,
            15400,
            7290,
            9960,
            5600,
            21800,
            27200,
            125000,
            17800,
            23100,
            1350,
            5400,
            45400,
            2180,
            12700,
            20400,
            1220,
            72100,
            25200,
            28700,
            1780,
            12000,
            30400,
            32500,
            8560,
            9920,
            3370,
            14200,
            42900,
            55500,
            2110,
            2090,
            13500,
            1850,
            1210,
            4980,
            10400,
            18000,
            9940,
            1540,
            7820,
            57600,
            36200,
            49400,
            17100,
            4240,
            2950,
            16500,
            4490,
            4480,
            3280
           ]
          },
          {
           "axis": {
            "matches": true
           },
           "label": "inflation",
           "values": [
            9.44,
            4.49,
            16.1,
            22.4,
            1.44,
            20.9,
            7.77,
            1.16,
            0.873,
            13.8,
            -0.393,
            7.44,
            7.14,
            0.321,
            15.1,
            1.88,
            1.14,
            0.885,
            5.99,
            8.78,
            1.4,
            8.92,
            8.41,
            16.7,
            1.11,
            6.81,
            12.3,
            3.12,
            1.91,
            2.87,
            0.505,
            2.01,
            6.39,
            8.96,
            6.94,
            3.86,
            3.87,
            20.8,
            20.7,
            6.57,
            5.39,
            0.821,
            2.01,
            -1.43,
            3.22,
            5.44,
            7.47,
            10.1,
            2.65,
            24.9,
            11.6,
            1.74,
            4.23,
            0.351,
            1.05,
            16.6,
            4.3,
            8.55,
            0.758,
            16.6,
            0.673,
            0.48,
            5.14,
            16.1,
            2.97,
            5.73,
            5.45,
            2.33,
            5.47,
            8.98,
            15.3,
            15.9,
            16.6,
            -3.22,
            1.77,
            0.319,
            9.81,
            -1.9,
            8.43,
            19.5,
            2.09,
            1.52,
            11.2,
            10,
            9.2,
            -0.812,
            0.238,
            4.15,
            5.47,
            14.2,
            2.38,
            3.62,
            2.04,
            8.79,
            12.1,
            7.27,
            2.88,
            4.37,
            3.83,
            18.9,
            1.13,
            3.8,
            11.1,
            39.2,
            1.6,
            0.976,
            7.64,
            7.04,
            3.56,
            15.1,
            0.848,
            3.73,
            2.55,
            104,
            5.95,
            15.6,
            10.9,
            2.59,
            6.1,
            5.71,
            4.22,
            1.66,
            0.643,
            6.98,
            3.53,
            14.2,
            2.61,
            1.72,
            17.2,
            1.85,
            5.88,
            -4.21,
            17.2,
            -0.046,
            0.485,
            -0.987,
            6.81,
            6.35,
            3.16,
            0.16,
            22.8,
            4.44,
            19.6,
            7.2,
            0.991,
            0.317,
            12.5,
            9.25,
            4.08,
            26.5,
            1.18,
            3.68,
            3.82,
            7.01,
            2.31,
            10.6,
            13.4,
            12.5,
            1.57,
            1.22,
            4.91,
            16.5,
            2.62,
            45.9,
            12.1,
            23.6,
            14
           ]
          },
          {
           "axis": {
            "matches": true
           },
           "label": "life_expec",
           "values": [
            56.2,
            76.3,
            76.5,
            60.1,
            76.8,
            75.8,
            73.3,
            82,
            80.5,
            69.1,
            73.8,
            76,
            70.4,
            76.7,
            70.4,
            80,
            71.4,
            61.8,
            72.1,
            71.6,
            76.8,
            57.1,
            74.2,
            77.1,
            73.9,
            57.9,
            57.7,
            66.1,
            57.3,
            81.3,
            72.5,
            47.5,
            56.5,
            79.1,
            74.6,
            76.4,
            65.9,
            57.5,
            60.4,
            80.4,
            56.3,
            76.3,
            79.9,
            77.5,
            79.5,
            74.6,
            76.7,
            70.5,
            74.1,
            60.9,
            61.7,
            76,
            65.3,
            80,
            81.4,
            62.9,
            65.5,
            72.8,
            80.1,
            62.2,
            80.4,
            71.3,
            71.3,
            58,
            55.6,
            65.5,
            32.1,
            74.5,
            82,
            66.2,
            69.9,
            74.5,
            67.2,
            80.4,
            81.4,
            81.7,
            74.7,
            82.8,
            75.8,
            68.4,
            62.8,
            60.7,
            78.2,
            68.5,
            63.8,
            73.1,
            79.8,
            46.5,
            60.8,
            76.1,
            73.2,
            81.3,
            74,
            60.8,
            53.1,
            74.5,
            77.9,
            59.5,
            80.3,
            68.2,
            73.4,
            65.4,
            69.7,
            66.2,
            76.4,
            73.5,
            54.5,
            66.8,
            58.6,
            68.3,
            80.7,
            80.9,
            58.8,
            60.5,
            81,
            76.1,
            65.3,
            77.8,
            74.1,
            77.9,
            69,
            76.3,
            79.8,
            79.5,
            73.7,
            69.2,
            64.6,
            71.5,
            75.1,
            64,
            74.7,
            73.4,
            55,
            82.7,
            75.5,
            79.5,
            61.7,
            54.3,
            80.1,
            81.9,
            74.4,
            71.6,
            66.3,
            70.3,
            81.5,
            82.2,
            69.6,
            59.3,
            76.6,
            71.1,
            58.7,
            69.9,
            76.9,
            78.2,
            67.9,
            56.8,
            70.4,
            76.5,
            80.3,
            78.7,
            76.4,
            68.8,
            63,
            75.4,
            73.1,
            67.5,
            52
           ]
          },
          {
           "axis": {
            "matches": true
           },
           "label": "total_fer",
           "values": [
            5.82,
            1.65,
            2.89,
            6.16,
            2.13,
            2.37,
            1.69,
            1.93,
            1.44,
            1.92,
            1.86,
            2.16,
            2.33,
            1.78,
            1.49,
            1.86,
            2.71,
            5.36,
            2.38,
            3.2,
            1.31,
            2.88,
            1.8,
            1.84,
            1.57,
            5.87,
            6.26,
            2.88,
            5.11,
            1.63,
            2.67,
            5.21,
            6.59,
            1.88,
            1.59,
            2.01,
            4.75,
            6.54,
            4.95,
            1.92,
            5.27,
            1.55,
            1.42,
            1.51,
            1.87,
            2.6,
            2.66,
            3.19,
            2.27,
            5.21,
            4.61,
            1.72,
            2.67,
            1.87,
            2.03,
            4.08,
            5.71,
            1.92,
            1.39,
            4.27,
            1.48,
            2.24,
            3.38,
            5.34,
            5.05,
            2.65,
            3.33,
            1.25,
            2.2,
            2.6,
            2.48,
            1.76,
            4.56,
            2.05,
            3.03,
            1.46,
            2.17,
            1.39,
            3.66,
            2.6,
            4.37,
            3.84,
            2.21,
            3.1,
            3.15,
            1.36,
            1.61,
            3.3,
            5.02,
            2.41,
            1.5,
            1.63,
            1.47,
            4.6,
            5.31,
            2.15,
            2.23,
            6.55,
            1.36,
            4.98,
            1.57,
            3.46,
            1.27,
            2.64,
            1.77,
            2.58,
            5.56,
            2.41,
            3.6,
            2.61,
            1.79,
            2.17,
            7.49,
            5.84,
            1.95,
            2.9,
            3.85,
            2.62,
            2.73,
            2.54,
            3.16,
            1.41,
            1.39,
            2.07,
            1.59,
            1.57,
            4.51,
            4.34,
            2.96,
            5.06,
            1.4,
            2.17,
            5.2,
            1.15,
            1.43,
            1.57,
            4.24,
            2.59,
            1.23,
            1.37,
            2.2,
            2.07,
            4.88,
            2.52,
            1.98,
            1.52,
            3.51,
            5.43,
            1.55,
            6.23,
            4.87,
            3.91,
            2.14,
            2.15,
            2.83,
            6.15,
            1.44,
            1.87,
            1.92,
            1.93,
            2.08,
            2.34,
            3.5,
            2.47,
            1.95,
            4.67,
            5.4
           ]
          },
          {
           "axis": {
            "matches": true
           },
           "label": "gdpp",
           "values": [
            553,
            4090,
            4460,
            3530,
            12200,
            10300,
            3220,
            51900,
            46900,
            5840,
            28000,
            20700,
            758,
            16000,
            6030,
            44400,
            4340,
            758,
            2180,
            1980,
            4610,
            6350,
            11200,
            35300,
            6840,
            575,
            231,
            786,
            1310,
            47400,
            3310,
            446,
            897,
            12900,
            4560,
            6250,
            769,
            334,
            2740,
            8200,
            1220,
            13500,
            30800,
            19800,
            58000,
            5450,
            4660,
            2600,
            2990,
            17100,
            482,
            14600,
            3650,
            46200,
            40600,
            8750,
            562,
            2960,
            41800,
            1310,
            26900,
            7370,
            2830,
            648,
            547,
            3040,
            662,
            13100,
            41900,
            1350,
            3110,
            6530,
            4500,
            48700,
            30600,
            35800,
            4680,
            44500,
            3680,
            9070,
            967,
            1490,
            38500,
            880,
            1140,
            11300,
            8860,
            1170,
            327,
            12100,
            12000,
            105000,
            4540,
            413,
            459,
            9070,
            7100,
            708,
            21100,
            1200,
            8000,
            2860,
            1630,
            2650,
            6680,
            2830,
            419,
            988,
            5190,
            592,
            50300,
            33700,
            348,
            2330,
            87800,
            19300,
            1040,
            8080,
            3230,
            5020,
            2130,
            12600,
            22500,
            70300,
            8230,
            10700,
            563,
            3450,
            19300,
            1000,
            5410,
            10800,
            399,
            46600,
            16600,
            23400,
            1290,
            7280,
            22100,
            30700,
            2810,
            6230,
            1480,
            8300,
            52100,
            74600,
            738,
            702,
            5080,
            3600,
            488,
            3550,
            4140,
            10700,
            4440,
            595,
            2970,
            35000,
            38900,
            48400,
            11900,
            1380,
            2970,
            13500,
            1310,
            1310,
            1460
           ]
          }
         ],
         "hovertemplate": "%{xaxis.title.text}=%{x}<br>%{yaxis.title.text}=%{y}<extra></extra>",
         "legendgroup": "",
         "marker": {
          "color": "#636efa",
          "symbol": "circle"
         },
         "name": "",
         "showlegend": false,
         "type": "splom"
        }
       ],
       "layout": {
        "dragmode": "select",
        "height": 800,
        "legend": {
         "tracegroupgap": 0
        },
        "margin": {
         "t": 60
        },
        "template": {
         "data": {
          "bar": [
           {
            "error_x": {
             "color": "#2a3f5f"
            },
            "error_y": {
             "color": "#2a3f5f"
            },
            "marker": {
             "line": {
              "color": "#E5ECF6",
              "width": 0.5
             },
             "pattern": {
              "fillmode": "overlay",
              "size": 10,
              "solidity": 0.2
             }
            },
            "type": "bar"
           }
          ],
          "barpolar": [
           {
            "marker": {
             "line": {
              "color": "#E5ECF6",
              "width": 0.5
             },
             "pattern": {
              "fillmode": "overlay",
              "size": 10,
              "solidity": 0.2
             }
            },
            "type": "barpolar"
           }
          ],
          "carpet": [
           {
            "aaxis": {
             "endlinecolor": "#2a3f5f",
             "gridcolor": "white",
             "linecolor": "white",
             "minorgridcolor": "white",
             "startlinecolor": "#2a3f5f"
            },
            "baxis": {
             "endlinecolor": "#2a3f5f",
             "gridcolor": "white",
             "linecolor": "white",
             "minorgridcolor": "white",
             "startlinecolor": "#2a3f5f"
            },
            "type": "carpet"
           }
          ],
          "choropleth": [
           {
            "colorbar": {
             "outlinewidth": 0,
             "ticks": ""
            },
            "type": "choropleth"
           }
          ],
          "contour": [
           {
            "colorbar": {
             "outlinewidth": 0,
             "ticks": ""
            },
            "colorscale": [
             [
              0,
              "#0d0887"
             ],
             [
              0.1111111111111111,
              "#46039f"
             ],
             [
              0.2222222222222222,
              "#7201a8"
             ],
             [
              0.3333333333333333,
              "#9c179e"
             ],
             [
              0.4444444444444444,
              "#bd3786"
             ],
             [
              0.5555555555555556,
              "#d8576b"
             ],
             [
              0.6666666666666666,
              "#ed7953"
             ],
             [
              0.7777777777777778,
              "#fb9f3a"
             ],
             [
              0.8888888888888888,
              "#fdca26"
             ],
             [
              1,
              "#f0f921"
             ]
            ],
            "type": "contour"
           }
          ],
          "contourcarpet": [
           {
            "colorbar": {
             "outlinewidth": 0,
             "ticks": ""
            },
            "type": "contourcarpet"
           }
          ],
          "heatmap": [
           {
            "colorbar": {
             "outlinewidth": 0,
             "ticks": ""
            },
            "colorscale": [
             [
              0,
              "#0d0887"
             ],
             [
              0.1111111111111111,
              "#46039f"
             ],
             [
              0.2222222222222222,
              "#7201a8"
             ],
             [
              0.3333333333333333,
              "#9c179e"
             ],
             [
              0.4444444444444444,
              "#bd3786"
             ],
             [
              0.5555555555555556,
              "#d8576b"
             ],
             [
              0.6666666666666666,
              "#ed7953"
             ],
             [
              0.7777777777777778,
              "#fb9f3a"
             ],
             [
              0.8888888888888888,
              "#fdca26"
             ],
             [
              1,
              "#f0f921"
             ]
            ],
            "type": "heatmap"
           }
          ],
          "heatmapgl": [
           {
            "colorbar": {
             "outlinewidth": 0,
             "ticks": ""
            },
            "colorscale": [
             [
              0,
              "#0d0887"
             ],
             [
              0.1111111111111111,
              "#46039f"
             ],
             [
              0.2222222222222222,
              "#7201a8"
             ],
             [
              0.3333333333333333,
              "#9c179e"
             ],
             [
              0.4444444444444444,
              "#bd3786"
             ],
             [
              0.5555555555555556,
              "#d8576b"
             ],
             [
              0.6666666666666666,
              "#ed7953"
             ],
             [
              0.7777777777777778,
              "#fb9f3a"
             ],
             [
              0.8888888888888888,
              "#fdca26"
             ],
             [
              1,
              "#f0f921"
             ]
            ],
            "type": "heatmapgl"
           }
          ],
          "histogram": [
           {
            "marker": {
             "pattern": {
              "fillmode": "overlay",
              "size": 10,
              "solidity": 0.2
             }
            },
            "type": "histogram"
           }
          ],
          "histogram2d": [
           {
            "colorbar": {
             "outlinewidth": 0,
             "ticks": ""
            },
            "colorscale": [
             [
              0,
              "#0d0887"
             ],
             [
              0.1111111111111111,
              "#46039f"
             ],
             [
              0.2222222222222222,
              "#7201a8"
             ],
             [
              0.3333333333333333,
              "#9c179e"
             ],
             [
              0.4444444444444444,
              "#bd3786"
             ],
             [
              0.5555555555555556,
              "#d8576b"
             ],
             [
              0.6666666666666666,
              "#ed7953"
             ],
             [
              0.7777777777777778,
              "#fb9f3a"
             ],
             [
              0.8888888888888888,
              "#fdca26"
             ],
             [
              1,
              "#f0f921"
             ]
            ],
            "type": "histogram2d"
           }
          ],
          "histogram2dcontour": [
           {
            "colorbar": {
             "outlinewidth": 0,
             "ticks": ""
            },
            "colorscale": [
             [
              0,
              "#0d0887"
             ],
             [
              0.1111111111111111,
              "#46039f"
             ],
             [
              0.2222222222222222,
              "#7201a8"
             ],
             [
              0.3333333333333333,
              "#9c179e"
             ],
             [
              0.4444444444444444,
              "#bd3786"
             ],
             [
              0.5555555555555556,
              "#d8576b"
             ],
             [
              0.6666666666666666,
              "#ed7953"
             ],
             [
              0.7777777777777778,
              "#fb9f3a"
             ],
             [
              0.8888888888888888,
              "#fdca26"
             ],
             [
              1,
              "#f0f921"
             ]
            ],
            "type": "histogram2dcontour"
           }
          ],
          "mesh3d": [
           {
            "colorbar": {
             "outlinewidth": 0,
             "ticks": ""
            },
            "type": "mesh3d"
           }
          ],
          "parcoords": [
           {
            "line": {
             "colorbar": {
              "outlinewidth": 0,
              "ticks": ""
             }
            },
            "type": "parcoords"
           }
          ],
          "pie": [
           {
            "automargin": true,
            "type": "pie"
           }
          ],
          "scatter": [
           {
            "marker": {
             "colorbar": {
              "outlinewidth": 0,
              "ticks": ""
             }
            },
            "type": "scatter"
           }
          ],
          "scatter3d": [
           {
            "line": {
             "colorbar": {
              "outlinewidth": 0,
              "ticks": ""
             }
            },
            "marker": {
             "colorbar": {
              "outlinewidth": 0,
              "ticks": ""
             }
            },
            "type": "scatter3d"
           }
          ],
          "scattercarpet": [
           {
            "marker": {
             "colorbar": {
              "outlinewidth": 0,
              "ticks": ""
             }
            },
            "type": "scattercarpet"
           }
          ],
          "scattergeo": [
           {
            "marker": {
             "colorbar": {
              "outlinewidth": 0,
              "ticks": ""
             }
            },
            "type": "scattergeo"
           }
          ],
          "scattergl": [
           {
            "marker": {
             "colorbar": {
              "outlinewidth": 0,
              "ticks": ""
             }
            },
            "type": "scattergl"
           }
          ],
          "scattermapbox": [
           {
            "marker": {
             "colorbar": {
              "outlinewidth": 0,
              "ticks": ""
             }
            },
            "type": "scattermapbox"
           }
          ],
          "scatterpolar": [
           {
            "marker": {
             "colorbar": {
              "outlinewidth": 0,
              "ticks": ""
             }
            },
            "type": "scatterpolar"
           }
          ],
          "scatterpolargl": [
           {
            "marker": {
             "colorbar": {
              "outlinewidth": 0,
              "ticks": ""
             }
            },
            "type": "scatterpolargl"
           }
          ],
          "scatterternary": [
           {
            "marker": {
             "colorbar": {
              "outlinewidth": 0,
              "ticks": ""
             }
            },
            "type": "scatterternary"
           }
          ],
          "surface": [
           {
            "colorbar": {
             "outlinewidth": 0,
             "ticks": ""
            },
            "colorscale": [
             [
              0,
              "#0d0887"
             ],
             [
              0.1111111111111111,
              "#46039f"
             ],
             [
              0.2222222222222222,
              "#7201a8"
             ],
             [
              0.3333333333333333,
              "#9c179e"
             ],
             [
              0.4444444444444444,
              "#bd3786"
             ],
             [
              0.5555555555555556,
              "#d8576b"
             ],
             [
              0.6666666666666666,
              "#ed7953"
             ],
             [
              0.7777777777777778,
              "#fb9f3a"
             ],
             [
              0.8888888888888888,
              "#fdca26"
             ],
             [
              1,
              "#f0f921"
             ]
            ],
            "type": "surface"
           }
          ],
          "table": [
           {
            "cells": {
             "fill": {
              "color": "#EBF0F8"
             },
             "line": {
              "color": "white"
             }
            },
            "header": {
             "fill": {
              "color": "#C8D4E3"
             },
             "line": {
              "color": "white"
             }
            },
            "type": "table"
           }
          ]
         },
         "layout": {
          "annotationdefaults": {
           "arrowcolor": "#2a3f5f",
           "arrowhead": 0,
           "arrowwidth": 1
          },
          "autotypenumbers": "strict",
          "coloraxis": {
           "colorbar": {
            "outlinewidth": 0,
            "ticks": ""
           }
          },
          "colorscale": {
           "diverging": [
            [
             0,
             "#8e0152"
            ],
            [
             0.1,
             "#c51b7d"
            ],
            [
             0.2,
             "#de77ae"
            ],
            [
             0.3,
             "#f1b6da"
            ],
            [
             0.4,
             "#fde0ef"
            ],
            [
             0.5,
             "#f7f7f7"
            ],
            [
             0.6,
             "#e6f5d0"
            ],
            [
             0.7,
             "#b8e186"
            ],
            [
             0.8,
             "#7fbc41"
            ],
            [
             0.9,
             "#4d9221"
            ],
            [
             1,
             "#276419"
            ]
           ],
           "sequential": [
            [
             0,
             "#0d0887"
            ],
            [
             0.1111111111111111,
             "#46039f"
            ],
            [
             0.2222222222222222,
             "#7201a8"
            ],
            [
             0.3333333333333333,
             "#9c179e"
            ],
            [
             0.4444444444444444,
             "#bd3786"
            ],
            [
             0.5555555555555556,
             "#d8576b"
            ],
            [
             0.6666666666666666,
             "#ed7953"
            ],
            [
             0.7777777777777778,
             "#fb9f3a"
            ],
            [
             0.8888888888888888,
             "#fdca26"
            ],
            [
             1,
             "#f0f921"
            ]
           ],
           "sequentialminus": [
            [
             0,
             "#0d0887"
            ],
            [
             0.1111111111111111,
             "#46039f"
            ],
            [
             0.2222222222222222,
             "#7201a8"
            ],
            [
             0.3333333333333333,
             "#9c179e"
            ],
            [
             0.4444444444444444,
             "#bd3786"
            ],
            [
             0.5555555555555556,
             "#d8576b"
            ],
            [
             0.6666666666666666,
             "#ed7953"
            ],
            [
             0.7777777777777778,
             "#fb9f3a"
            ],
            [
             0.8888888888888888,
             "#fdca26"
            ],
            [
             1,
             "#f0f921"
            ]
           ]
          },
          "colorway": [
           "#636efa",
           "#EF553B",
           "#00cc96",
           "#ab63fa",
           "#FFA15A",
           "#19d3f3",
           "#FF6692",
           "#B6E880",
           "#FF97FF",
           "#FECB52"
          ],
          "font": {
           "color": "#2a3f5f"
          },
          "geo": {
           "bgcolor": "white",
           "lakecolor": "white",
           "landcolor": "#E5ECF6",
           "showlakes": true,
           "showland": true,
           "subunitcolor": "white"
          },
          "hoverlabel": {
           "align": "left"
          },
          "hovermode": "closest",
          "mapbox": {
           "style": "light"
          },
          "paper_bgcolor": "white",
          "plot_bgcolor": "#E5ECF6",
          "polar": {
           "angularaxis": {
            "gridcolor": "white",
            "linecolor": "white",
            "ticks": ""
           },
           "bgcolor": "#E5ECF6",
           "radialaxis": {
            "gridcolor": "white",
            "linecolor": "white",
            "ticks": ""
           }
          },
          "scene": {
           "xaxis": {
            "backgroundcolor": "#E5ECF6",
            "gridcolor": "white",
            "gridwidth": 2,
            "linecolor": "white",
            "showbackground": true,
            "ticks": "",
            "zerolinecolor": "white"
           },
           "yaxis": {
            "backgroundcolor": "#E5ECF6",
            "gridcolor": "white",
            "gridwidth": 2,
            "linecolor": "white",
            "showbackground": true,
            "ticks": "",
            "zerolinecolor": "white"
           },
           "zaxis": {
            "backgroundcolor": "#E5ECF6",
            "gridcolor": "white",
            "gridwidth": 2,
            "linecolor": "white",
            "showbackground": true,
            "ticks": "",
            "zerolinecolor": "white"
           }
          },
          "shapedefaults": {
           "line": {
            "color": "#2a3f5f"
           }
          },
          "ternary": {
           "aaxis": {
            "gridcolor": "white",
            "linecolor": "white",
            "ticks": ""
           },
           "baxis": {
            "gridcolor": "white",
            "linecolor": "white",
            "ticks": ""
           },
           "bgcolor": "#E5ECF6",
           "caxis": {
            "gridcolor": "white",
            "linecolor": "white",
            "ticks": ""
           }
          },
          "title": {
           "x": 0.05
          },
          "xaxis": {
           "automargin": true,
           "gridcolor": "white",
           "linecolor": "white",
           "ticks": "",
           "title": {
            "standoff": 15
           },
           "zerolinecolor": "white",
           "zerolinewidth": 2
          },
          "yaxis": {
           "automargin": true,
           "gridcolor": "white",
           "linecolor": "white",
           "ticks": "",
           "title": {
            "standoff": 15
           },
           "zerolinecolor": "white",
           "zerolinewidth": 2
          }
         }
        },
        "title": {
         "text": "Feature Relationships"
        },
        "width": 900
       }
      },
      "text/html": [
       "<div>                            <div id=\"7a5c9c77-3222-46a7-8d0d-87ceb02ac0da\" class=\"plotly-graph-div\" style=\"height:800px; width:900px;\"></div>            <script type=\"text/javascript\">                require([\"plotly\"], function(Plotly) {                    window.PLOTLYENV=window.PLOTLYENV || {};                                    if (document.getElementById(\"7a5c9c77-3222-46a7-8d0d-87ceb02ac0da\")) {                    Plotly.newPlot(                        \"7a5c9c77-3222-46a7-8d0d-87ceb02ac0da\",                        [{\"dimensions\":[{\"axis\":{\"matches\":true},\"label\":\"child_mort\",\"values\":[90.2,16.6,27.3,119.0,10.3,14.5,18.1,4.8,4.3,39.2,13.8,8.6,49.4,14.2,5.5,4.5,18.8,111.0,42.7,46.6,6.9,52.5,19.8,10.5,10.8,116.0,93.6,44.4,108.0,5.6,26.5,149.0,150.0,8.7,15.7,18.6,88.2,116.0,63.9,10.2,111.0,5.5,3.6,3.4,4.1,34.4,25.1,29.1,19.2,111.0,55.2,4.5,24.1,3.0,4.2,63.7,80.3,16.5,4.2,74.7,3.9,14.6,35.4,109.0,114.0,37.6,208.0,6.0,2.6,58.8,33.3,19.3,36.9,4.2,4.6,4.0,18.1,3.2,21.1,21.5,62.2,62.7,10.8,29.6,78.9,7.8,10.3,99.7,89.3,16.6,6.1,2.8,10.4,62.2,90.5,7.9,13.2,137.0,6.8,97.4,15.0,40.0,17.2,26.1,6.8,33.5,101.0,64.4,56.0,47.0,4.5,6.2,123.0,130.0,3.2,11.7,92.1,19.7,24.1,20.3,31.9,6.0,3.9,9.0,11.5,10.0,63.6,18.9,15.7,66.8,7.6,14.4,160.0,2.8,7.0,3.2,28.1,53.7,4.1,3.8,11.2,20.7,76.7,24.1,3.0,4.5,52.4,71.9,14.9,62.6,90.3,17.4,17.4,19.1,62.0,81.0,11.7,8.6,5.2,7.3,10.6,36.3,29.2,17.1,23.3,56.3,83.1]},{\"axis\":{\"matches\":true},\"label\":\"exports\",\"values\":[10.0,28.0,38.4,62.3,45.5,18.9,20.8,19.8,51.3,54.3,35.0,69.5,16.0,39.5,51.4,76.4,58.2,23.8,42.5,41.2,29.7,43.6,10.7,67.4,50.2,19.2,8.92,54.1,22.2,29.1,32.7,11.8,36.8,37.7,26.3,15.9,16.5,41.1,85.1,33.2,50.6,37.6,50.2,66.0,50.5,22.7,27.9,21.3,26.9,85.8,4.79,75.1,57.8,38.7,26.8,57.7,23.8,35.0,42.3,29.5,22.1,23.8,25.8,30.3,14.9,51.4,15.3,81.8,53.4,22.6,24.3,24.4,39.4,103.0,35.0,25.2,31.3,15.0,48.3,44.2,20.7,13.3,66.7,51.6,35.4,53.7,35.8,39.4,19.1,65.6,65.3,175.0,39.8,25.0,22.8,86.9,77.6,22.8,153.0,50.7,51.2,23.5,39.2,46.7,37.0,32.2,31.5,0.109,47.8,9.58,72.0,30.3,22.2,25.3,39.7,65.7,13.5,70.0,55.1,27.8,34.8,40.1,29.9,62.3,32.6,29.2,12.0,29.2,49.6,24.9,32.9,93.8,16.8,200.0,76.3,64.3,49.3,28.6,49.4,25.5,19.6,26.9,19.7,52.5,46.2,64.0,14.9,18.7,66.5,2.2,40.2,12.4,50.5,20.4,76.3,17.1,47.1,77.7,28.2,12.4,26.3,31.7,46.6,28.5,72.0,30.0,37.0]},{\"axis\":{\"matches\":true},\"label\":\"health\",\"values\":[7.58,6.55,4.17,2.85,6.03,8.1,4.4,8.73,11.0,5.88,7.89,4.97,3.52,7.97,5.61,10.7,5.2,4.1,5.2,4.84,11.1,8.3,9.01,2.84,6.87,6.74,11.6,5.68,5.13,11.3,4.09,3.98,4.53,7.96,5.07,7.59,4.51,7.91,2.46,10.9,5.3,7.76,5.97,7.88,11.4,6.22,8.06,4.66,6.91,4.48,2.66,6.03,4.86,8.95,11.9,3.5,5.69,10.1,11.6,5.22,10.3,5.86,6.85,4.93,8.5,5.38,6.91,7.33,9.4,4.05,2.61,5.6,8.41,9.19,7.63,9.53,4.81,9.49,8.04,4.29,4.75,11.3,2.63,6.18,4.47,6.68,7.03,11.1,11.8,3.88,7.04,7.77,7.09,3.77,6.59,4.39,6.33,4.98,8.65,4.41,6.0,14.2,11.7,5.44,9.11,5.2,5.21,1.97,6.78,5.25,11.9,10.1,5.16,5.07,9.48,2.77,2.2,8.1,5.87,5.08,3.61,7.46,11.0,1.81,5.58,5.08,10.5,6.47,4.29,5.66,10.4,3.4,13.1,3.96,8.79,9.41,8.55,8.94,6.93,9.54,2.94,4.47,6.32,7.01,9.63,11.5,5.98,6.01,3.88,9.12,7.65,5.07,6.21,6.74,2.5,9.01,7.72,3.66,9.64,17.9,8.35,5.81,5.25,4.91,6.84,5.18,5.89]},{\"axis\":{\"matches\":true},\"label\":\"imports\",\"values\":[44.9,48.6,31.4,42.9,58.9,16.0,45.3,20.9,47.8,20.7,43.7,50.9,21.8,48.7,64.5,74.7,57.5,37.2,70.7,34.3,51.3,51.3,11.8,28.0,53.0,29.6,39.2,59.5,27.0,31.0,61.8,26.5,43.5,31.3,22.6,17.8,51.7,49.6,54.7,35.0,43.3,38.1,57.5,62.9,43.6,33.3,32.4,26.6,46.6,58.9,23.3,68.7,63.9,37.4,28.1,18.9,42.7,52.8,37.1,45.9,30.7,49.2,36.3,43.2,35.2,79.1,64.7,76.5,43.3,27.1,22.4,19.4,34.1,86.5,32.9,27.2,49.6,13.6,69.0,29.9,33.6,79.9,30.4,81.7,49.3,55.1,60.2,101.0,92.6,42.1,67.2,142.0,58.1,43.0,34.9,71.0,65.4,35.1,154.0,61.2,62.2,81.0,78.5,56.7,62.7,43.0,46.2,0.0659,60.7,36.4,63.6,28.0,49.1,17.4,28.5,41.2,19.4,78.2,51.5,23.8,36.6,42.1,37.4,23.8,38.8,21.1,30.0,53.1,33.0,40.3,47.9,108.0,34.5,174.0,77.8,62.9,81.2,27.4,46.2,26.8,26.8,57.1,17.2,38.4,40.7,53.3,58.6,29.1,60.8,27.8,57.3,60.3,55.3,25.5,44.5,28.6,51.1,63.6,30.8,15.8,25.4,28.5,52.7,17.6,80.2,34.4,30.9]},{\"axis\":{\"matches\":true},\"label\":\"income\",\"values\":[1610,9930,12900,5900,19100,18700,6700,41400,43200,16000,22900,41100,2440,15300,16200,41100,7880,1820,6420,5410,9720,13300,14500,80600,15300,1430,764,2520,2660,40700,5830,888,1930,19400,9530,10900,1410,609,5190,13000,2690,20100,33900,28300,44000,11100,9350,9860,7300,33700,1420,22700,7350,39800,36900,15400,1660,6730,40400,3060,28700,11200,6710,1190,1390,5840,1500,22300,38800,4410,8430,17400,12700,45700,29600,36200,8000,35800,9470,20100,2480,1730,75200,2790,3980,18300,16300,2380,700,29600,21100,91700,11400,1390,1030,21100,10500,1870,28300,3320,15900,3340,3910,7710,14000,6440,918,3720,8460,1990,45500,32300,814,5150,62300,45300,4280,15400,7290,9960,5600,21800,27200,125000,17800,23100,1350,5400,45400,2180,12700,20400,1220,72100,25200,28700,1780,12000,30400,32500,8560,9920,3370,14200,42900,55500,2110,2090,13500,1850,1210,4980,10400,18000,9940,1540,7820,57600,36200,49400,17100,4240,2950,16500,4490,4480,3280]},{\"axis\":{\"matches\":true},\"label\":\"inflation\",\"values\":[9.44,4.49,16.1,22.4,1.44,20.9,7.77,1.16,0.873,13.8,-0.393,7.44,7.14,0.321,15.1,1.88,1.14,0.885,5.99,8.78,1.4,8.92,8.41,16.7,1.11,6.81,12.3,3.12,1.91,2.87,0.505,2.01,6.39,8.96,6.94,3.86,3.87,20.8,20.7,6.57,5.39,0.821,2.01,-1.43,3.22,5.44,7.47,10.1,2.65,24.9,11.6,1.74,4.23,0.351,1.05,16.6,4.3,8.55,0.758,16.6,0.673,0.48,5.14,16.1,2.97,5.73,5.45,2.33,5.47,8.98,15.3,15.9,16.6,-3.22,1.77,0.319,9.81,-1.9,8.43,19.5,2.09,1.52,11.2,10.0,9.2,-0.812,0.238,4.15,5.47,14.2,2.38,3.62,2.04,8.79,12.1,7.27,2.88,4.37,3.83,18.9,1.13,3.8,11.1,39.2,1.6,0.976,7.64,7.04,3.56,15.1,0.848,3.73,2.55,104.0,5.95,15.6,10.9,2.59,6.1,5.71,4.22,1.66,0.643,6.98,3.53,14.2,2.61,1.72,17.2,1.85,5.88,-4.21,17.2,-0.046,0.485,-0.987,6.81,6.35,3.16,0.16,22.8,4.44,19.6,7.2,0.991,0.317,12.5,9.25,4.08,26.5,1.18,3.68,3.82,7.01,2.31,10.6,13.4,12.5,1.57,1.22,4.91,16.5,2.62,45.9,12.1,23.6,14.0]},{\"axis\":{\"matches\":true},\"label\":\"life_expec\",\"values\":[56.2,76.3,76.5,60.1,76.8,75.8,73.3,82.0,80.5,69.1,73.8,76.0,70.4,76.7,70.4,80.0,71.4,61.8,72.1,71.6,76.8,57.1,74.2,77.1,73.9,57.9,57.7,66.1,57.3,81.3,72.5,47.5,56.5,79.1,74.6,76.4,65.9,57.5,60.4,80.4,56.3,76.3,79.9,77.5,79.5,74.6,76.7,70.5,74.1,60.9,61.7,76.0,65.3,80.0,81.4,62.9,65.5,72.8,80.1,62.2,80.4,71.3,71.3,58.0,55.6,65.5,32.1,74.5,82.0,66.2,69.9,74.5,67.2,80.4,81.4,81.7,74.7,82.8,75.8,68.4,62.8,60.7,78.2,68.5,63.8,73.1,79.8,46.5,60.8,76.1,73.2,81.3,74.0,60.8,53.1,74.5,77.9,59.5,80.3,68.2,73.4,65.4,69.7,66.2,76.4,73.5,54.5,66.8,58.6,68.3,80.7,80.9,58.8,60.5,81.0,76.1,65.3,77.8,74.1,77.9,69.0,76.3,79.8,79.5,73.7,69.2,64.6,71.5,75.1,64.0,74.7,73.4,55.0,82.7,75.5,79.5,61.7,54.3,80.1,81.9,74.4,71.6,66.3,70.3,81.5,82.2,69.6,59.3,76.6,71.1,58.7,69.9,76.9,78.2,67.9,56.8,70.4,76.5,80.3,78.7,76.4,68.8,63.0,75.4,73.1,67.5,52.0]},{\"axis\":{\"matches\":true},\"label\":\"total_fer\",\"values\":[5.82,1.65,2.89,6.16,2.13,2.37,1.69,1.93,1.44,1.92,1.86,2.16,2.33,1.78,1.49,1.86,2.71,5.36,2.38,3.2,1.31,2.88,1.8,1.84,1.57,5.87,6.26,2.88,5.11,1.63,2.67,5.21,6.59,1.88,1.59,2.01,4.75,6.54,4.95,1.92,5.27,1.55,1.42,1.51,1.87,2.6,2.66,3.19,2.27,5.21,4.61,1.72,2.67,1.87,2.03,4.08,5.71,1.92,1.39,4.27,1.48,2.24,3.38,5.34,5.05,2.65,3.33,1.25,2.2,2.6,2.48,1.76,4.56,2.05,3.03,1.46,2.17,1.39,3.66,2.6,4.37,3.84,2.21,3.1,3.15,1.36,1.61,3.3,5.02,2.41,1.5,1.63,1.47,4.6,5.31,2.15,2.23,6.55,1.36,4.98,1.57,3.46,1.27,2.64,1.77,2.58,5.56,2.41,3.6,2.61,1.79,2.17,7.49,5.84,1.95,2.9,3.85,2.62,2.73,2.54,3.16,1.41,1.39,2.07,1.59,1.57,4.51,4.34,2.96,5.06,1.4,2.17,5.2,1.15,1.43,1.57,4.24,2.59,1.23,1.37,2.2,2.07,4.88,2.52,1.98,1.52,3.51,5.43,1.55,6.23,4.87,3.91,2.14,2.15,2.83,6.15,1.44,1.87,1.92,1.93,2.08,2.34,3.5,2.47,1.95,4.67,5.4]},{\"axis\":{\"matches\":true},\"label\":\"gdpp\",\"values\":[553,4090,4460,3530,12200,10300,3220,51900,46900,5840,28000,20700,758,16000,6030,44400,4340,758,2180,1980,4610,6350,11200,35300,6840,575,231,786,1310,47400,3310,446,897,12900,4560,6250,769,334,2740,8200,1220,13500,30800,19800,58000,5450,4660,2600,2990,17100,482,14600,3650,46200,40600,8750,562,2960,41800,1310,26900,7370,2830,648,547,3040,662,13100,41900,1350,3110,6530,4500,48700,30600,35800,4680,44500,3680,9070,967,1490,38500,880,1140,11300,8860,1170,327,12100,12000,105000,4540,413,459,9070,7100,708,21100,1200,8000,2860,1630,2650,6680,2830,419,988,5190,592,50300,33700,348,2330,87800,19300,1040,8080,3230,5020,2130,12600,22500,70300,8230,10700,563,3450,19300,1000,5410,10800,399,46600,16600,23400,1290,7280,22100,30700,2810,6230,1480,8300,52100,74600,738,702,5080,3600,488,3550,4140,10700,4440,595,2970,35000,38900,48400,11900,1380,2970,13500,1310,1310,1460]}],\"hovertemplate\":\"%{xaxis.title.text}=%{x}<br>%{yaxis.title.text}=%{y}<extra></extra>\",\"legendgroup\":\"\",\"marker\":{\"color\":\"#636efa\",\"symbol\":\"circle\"},\"name\":\"\",\"showlegend\":false,\"type\":\"splom\"}],                        {\"dragmode\":\"select\",\"height\":800,\"legend\":{\"tracegroupgap\":0},\"margin\":{\"t\":60},\"template\":{\"data\":{\"barpolar\":[{\"marker\":{\"line\":{\"color\":\"#E5ECF6\",\"width\":0.5},\"pattern\":{\"fillmode\":\"overlay\",\"size\":10,\"solidity\":0.2}},\"type\":\"barpolar\"}],\"bar\":[{\"error_x\":{\"color\":\"#2a3f5f\"},\"error_y\":{\"color\":\"#2a3f5f\"},\"marker\":{\"line\":{\"color\":\"#E5ECF6\",\"width\":0.5},\"pattern\":{\"fillmode\":\"overlay\",\"size\":10,\"solidity\":0.2}},\"type\":\"bar\"}],\"carpet\":[{\"aaxis\":{\"endlinecolor\":\"#2a3f5f\",\"gridcolor\":\"white\",\"linecolor\":\"white\",\"minorgridcolor\":\"white\",\"startlinecolor\":\"#2a3f5f\"},\"baxis\":{\"endlinecolor\":\"#2a3f5f\",\"gridcolor\":\"white\",\"linecolor\":\"white\",\"minorgridcolor\":\"white\",\"startlinecolor\":\"#2a3f5f\"},\"type\":\"carpet\"}],\"choropleth\":[{\"colorbar\":{\"outlinewidth\":0,\"ticks\":\"\"},\"type\":\"choropleth\"}],\"contourcarpet\":[{\"colorbar\":{\"outlinewidth\":0,\"ticks\":\"\"},\"type\":\"contourcarpet\"}],\"contour\":[{\"colorbar\":{\"outlinewidth\":0,\"ticks\":\"\"},\"colorscale\":[[0.0,\"#0d0887\"],[0.1111111111111111,\"#46039f\"],[0.2222222222222222,\"#7201a8\"],[0.3333333333333333,\"#9c179e\"],[0.4444444444444444,\"#bd3786\"],[0.5555555555555556,\"#d8576b\"],[0.6666666666666666,\"#ed7953\"],[0.7777777777777778,\"#fb9f3a\"],[0.8888888888888888,\"#fdca26\"],[1.0,\"#f0f921\"]],\"type\":\"contour\"}],\"heatmapgl\":[{\"colorbar\":{\"outlinewidth\":0,\"ticks\":\"\"},\"colorscale\":[[0.0,\"#0d0887\"],[0.1111111111111111,\"#46039f\"],[0.2222222222222222,\"#7201a8\"],[0.3333333333333333,\"#9c179e\"],[0.4444444444444444,\"#bd3786\"],[0.5555555555555556,\"#d8576b\"],[0.6666666666666666,\"#ed7953\"],[0.7777777777777778,\"#fb9f3a\"],[0.8888888888888888,\"#fdca26\"],[1.0,\"#f0f921\"]],\"type\":\"heatmapgl\"}],\"heatmap\":[{\"colorbar\":{\"outlinewidth\":0,\"ticks\":\"\"},\"colorscale\":[[0.0,\"#0d0887\"],[0.1111111111111111,\"#46039f\"],[0.2222222222222222,\"#7201a8\"],[0.3333333333333333,\"#9c179e\"],[0.4444444444444444,\"#bd3786\"],[0.5555555555555556,\"#d8576b\"],[0.6666666666666666,\"#ed7953\"],[0.7777777777777778,\"#fb9f3a\"],[0.8888888888888888,\"#fdca26\"],[1.0,\"#f0f921\"]],\"type\":\"heatmap\"}],\"histogram2dcontour\":[{\"colorbar\":{\"outlinewidth\":0,\"ticks\":\"\"},\"colorscale\":[[0.0,\"#0d0887\"],[0.1111111111111111,\"#46039f\"],[0.2222222222222222,\"#7201a8\"],[0.3333333333333333,\"#9c179e\"],[0.4444444444444444,\"#bd3786\"],[0.5555555555555556,\"#d8576b\"],[0.6666666666666666,\"#ed7953\"],[0.7777777777777778,\"#fb9f3a\"],[0.8888888888888888,\"#fdca26\"],[1.0,\"#f0f921\"]],\"type\":\"histogram2dcontour\"}],\"histogram2d\":[{\"colorbar\":{\"outlinewidth\":0,\"ticks\":\"\"},\"colorscale\":[[0.0,\"#0d0887\"],[0.1111111111111111,\"#46039f\"],[0.2222222222222222,\"#7201a8\"],[0.3333333333333333,\"#9c179e\"],[0.4444444444444444,\"#bd3786\"],[0.5555555555555556,\"#d8576b\"],[0.6666666666666666,\"#ed7953\"],[0.7777777777777778,\"#fb9f3a\"],[0.8888888888888888,\"#fdca26\"],[1.0,\"#f0f921\"]],\"type\":\"histogram2d\"}],\"histogram\":[{\"marker\":{\"pattern\":{\"fillmode\":\"overlay\",\"size\":10,\"solidity\":0.2}},\"type\":\"histogram\"}],\"mesh3d\":[{\"colorbar\":{\"outlinewidth\":0,\"ticks\":\"\"},\"type\":\"mesh3d\"}],\"parcoords\":[{\"line\":{\"colorbar\":{\"outlinewidth\":0,\"ticks\":\"\"}},\"type\":\"parcoords\"}],\"pie\":[{\"automargin\":true,\"type\":\"pie\"}],\"scatter3d\":[{\"line\":{\"colorbar\":{\"outlinewidth\":0,\"ticks\":\"\"}},\"marker\":{\"colorbar\":{\"outlinewidth\":0,\"ticks\":\"\"}},\"type\":\"scatter3d\"}],\"scattercarpet\":[{\"marker\":{\"colorbar\":{\"outlinewidth\":0,\"ticks\":\"\"}},\"type\":\"scattercarpet\"}],\"scattergeo\":[{\"marker\":{\"colorbar\":{\"outlinewidth\":0,\"ticks\":\"\"}},\"type\":\"scattergeo\"}],\"scattergl\":[{\"marker\":{\"colorbar\":{\"outlinewidth\":0,\"ticks\":\"\"}},\"type\":\"scattergl\"}],\"scattermapbox\":[{\"marker\":{\"colorbar\":{\"outlinewidth\":0,\"ticks\":\"\"}},\"type\":\"scattermapbox\"}],\"scatterpolargl\":[{\"marker\":{\"colorbar\":{\"outlinewidth\":0,\"ticks\":\"\"}},\"type\":\"scatterpolargl\"}],\"scatterpolar\":[{\"marker\":{\"colorbar\":{\"outlinewidth\":0,\"ticks\":\"\"}},\"type\":\"scatterpolar\"}],\"scatter\":[{\"marker\":{\"colorbar\":{\"outlinewidth\":0,\"ticks\":\"\"}},\"type\":\"scatter\"}],\"scatterternary\":[{\"marker\":{\"colorbar\":{\"outlinewidth\":0,\"ticks\":\"\"}},\"type\":\"scatterternary\"}],\"surface\":[{\"colorbar\":{\"outlinewidth\":0,\"ticks\":\"\"},\"colorscale\":[[0.0,\"#0d0887\"],[0.1111111111111111,\"#46039f\"],[0.2222222222222222,\"#7201a8\"],[0.3333333333333333,\"#9c179e\"],[0.4444444444444444,\"#bd3786\"],[0.5555555555555556,\"#d8576b\"],[0.6666666666666666,\"#ed7953\"],[0.7777777777777778,\"#fb9f3a\"],[0.8888888888888888,\"#fdca26\"],[1.0,\"#f0f921\"]],\"type\":\"surface\"}],\"table\":[{\"cells\":{\"fill\":{\"color\":\"#EBF0F8\"},\"line\":{\"color\":\"white\"}},\"header\":{\"fill\":{\"color\":\"#C8D4E3\"},\"line\":{\"color\":\"white\"}},\"type\":\"table\"}]},\"layout\":{\"annotationdefaults\":{\"arrowcolor\":\"#2a3f5f\",\"arrowhead\":0,\"arrowwidth\":1},\"autotypenumbers\":\"strict\",\"coloraxis\":{\"colorbar\":{\"outlinewidth\":0,\"ticks\":\"\"}},\"colorscale\":{\"diverging\":[[0,\"#8e0152\"],[0.1,\"#c51b7d\"],[0.2,\"#de77ae\"],[0.3,\"#f1b6da\"],[0.4,\"#fde0ef\"],[0.5,\"#f7f7f7\"],[0.6,\"#e6f5d0\"],[0.7,\"#b8e186\"],[0.8,\"#7fbc41\"],[0.9,\"#4d9221\"],[1,\"#276419\"]],\"sequential\":[[0.0,\"#0d0887\"],[0.1111111111111111,\"#46039f\"],[0.2222222222222222,\"#7201a8\"],[0.3333333333333333,\"#9c179e\"],[0.4444444444444444,\"#bd3786\"],[0.5555555555555556,\"#d8576b\"],[0.6666666666666666,\"#ed7953\"],[0.7777777777777778,\"#fb9f3a\"],[0.8888888888888888,\"#fdca26\"],[1.0,\"#f0f921\"]],\"sequentialminus\":[[0.0,\"#0d0887\"],[0.1111111111111111,\"#46039f\"],[0.2222222222222222,\"#7201a8\"],[0.3333333333333333,\"#9c179e\"],[0.4444444444444444,\"#bd3786\"],[0.5555555555555556,\"#d8576b\"],[0.6666666666666666,\"#ed7953\"],[0.7777777777777778,\"#fb9f3a\"],[0.8888888888888888,\"#fdca26\"],[1.0,\"#f0f921\"]]},\"colorway\":[\"#636efa\",\"#EF553B\",\"#00cc96\",\"#ab63fa\",\"#FFA15A\",\"#19d3f3\",\"#FF6692\",\"#B6E880\",\"#FF97FF\",\"#FECB52\"],\"font\":{\"color\":\"#2a3f5f\"},\"geo\":{\"bgcolor\":\"white\",\"lakecolor\":\"white\",\"landcolor\":\"#E5ECF6\",\"showlakes\":true,\"showland\":true,\"subunitcolor\":\"white\"},\"hoverlabel\":{\"align\":\"left\"},\"hovermode\":\"closest\",\"mapbox\":{\"style\":\"light\"},\"paper_bgcolor\":\"white\",\"plot_bgcolor\":\"#E5ECF6\",\"polar\":{\"angularaxis\":{\"gridcolor\":\"white\",\"linecolor\":\"white\",\"ticks\":\"\"},\"bgcolor\":\"#E5ECF6\",\"radialaxis\":{\"gridcolor\":\"white\",\"linecolor\":\"white\",\"ticks\":\"\"}},\"scene\":{\"xaxis\":{\"backgroundcolor\":\"#E5ECF6\",\"gridcolor\":\"white\",\"gridwidth\":2,\"linecolor\":\"white\",\"showbackground\":true,\"ticks\":\"\",\"zerolinecolor\":\"white\"},\"yaxis\":{\"backgroundcolor\":\"#E5ECF6\",\"gridcolor\":\"white\",\"gridwidth\":2,\"linecolor\":\"white\",\"showbackground\":true,\"ticks\":\"\",\"zerolinecolor\":\"white\"},\"zaxis\":{\"backgroundcolor\":\"#E5ECF6\",\"gridcolor\":\"white\",\"gridwidth\":2,\"linecolor\":\"white\",\"showbackground\":true,\"ticks\":\"\",\"zerolinecolor\":\"white\"}},\"shapedefaults\":{\"line\":{\"color\":\"#2a3f5f\"}},\"ternary\":{\"aaxis\":{\"gridcolor\":\"white\",\"linecolor\":\"white\",\"ticks\":\"\"},\"baxis\":{\"gridcolor\":\"white\",\"linecolor\":\"white\",\"ticks\":\"\"},\"bgcolor\":\"#E5ECF6\",\"caxis\":{\"gridcolor\":\"white\",\"linecolor\":\"white\",\"ticks\":\"\"}},\"title\":{\"x\":0.05},\"xaxis\":{\"automargin\":true,\"gridcolor\":\"white\",\"linecolor\":\"white\",\"ticks\":\"\",\"title\":{\"standoff\":15},\"zerolinecolor\":\"white\",\"zerolinewidth\":2},\"yaxis\":{\"automargin\":true,\"gridcolor\":\"white\",\"linecolor\":\"white\",\"ticks\":\"\",\"title\":{\"standoff\":15},\"zerolinecolor\":\"white\",\"zerolinewidth\":2}}},\"title\":{\"text\":\"Feature Relationships\"},\"width\":900},                        {\"responsive\": true}                    ).then(function(){\n",
       "                            \n",
       "var gd = document.getElementById('7a5c9c77-3222-46a7-8d0d-87ceb02ac0da');\n",
       "var x = new MutationObserver(function (mutations, observer) {{\n",
       "        var display = window.getComputedStyle(gd).display;\n",
       "        if (!display || display === 'none') {{\n",
       "            console.log([gd, 'removed!']);\n",
       "            Plotly.purge(gd);\n",
       "            observer.disconnect();\n",
       "        }}\n",
       "}});\n",
       "\n",
       "// Listen for the removal of the full notebook cells\n",
       "var notebookContainer = gd.closest('#notebook-container');\n",
       "if (notebookContainer) {{\n",
       "    x.observe(notebookContainer, {childList: true});\n",
       "}}\n",
       "\n",
       "// Listen for the clearing of the current output cell\n",
       "var outputEl = gd.closest('.output');\n",
       "if (outputEl) {{\n",
       "    x.observe(outputEl, {childList: true});\n",
       "}}\n",
       "\n",
       "                        })                };                });            </script>        </div>"
      ]
     },
     "metadata": {},
     "output_type": "display_data"
    }
   ],
   "source": [
    "# DataFrame for clutering\n",
    "df_to_cluster = df.drop('country', axis=1)\n",
    "# Data correlation\n",
    "fig = px.scatter_matrix(df_to_cluster, dimensions=df_to_cluster.columns, width=900, height=800)\n",
    "fig.update_layout(title = 'Feature Relationships')\n",
    "pyo.iplot(fig)\n",
    "#fig.show()"
   ]
  },
  {
   "cell_type": "code",
   "execution_count": 7,
   "metadata": {
    "execution": {
     "iopub.execute_input": "2023-04-26T19:06:03.460917Z",
     "iopub.status.busy": "2023-04-26T19:06:03.460497Z",
     "iopub.status.idle": "2023-04-26T19:06:04.031879Z",
     "shell.execute_reply": "2023-04-26T19:06:04.030481Z",
     "shell.execute_reply.started": "2023-04-26T19:06:03.460876Z"
    }
   },
   "outputs": [
    {
     "data": {
      "text/plain": [
       "<AxesSubplot:>"
      ]
     },
     "execution_count": 7,
     "metadata": {},
     "output_type": "execute_result"
    },
    {
     "data": {
      "image/png": "[encoded data removed]",
      "text/plain": [
       "<Figure size 864x288 with 2 Axes>"
      ]
     },
     "metadata": {
      "needs_background": "light"
     },
     "output_type": "display_data"
    }
   ],
   "source": [
    "coors = df_to_cluster.corr(method='spearman')\n",
    "mask = np.zeros_like(coors, dtype=bool)\n",
    "mask[np.triu_indices_from(mask)] = True\n",
    "fig, ax = plt.subplots(figsize=(12, 4))\n",
    "sns.heatmap(coors, mask=mask, vmin=0.05, annot=True)"
   ]
  },
  {
   "cell_type": "markdown",
   "metadata": {},
   "source": [
    "- **Highly positive correlation:** gdpp and income ($corr=0.98$), gdpp and life expectancy ($corr=0.85$), total_fer and child_mort ($corr=0.87$), life_expectancy and income ($corr=0.84$)\n",
    "\n",
    "- **Highly negative correlation:** gdpp and child_mort ($corr=-0.88$), total_fer and income ($corr=-0.74$), total_fer and life_expectancy ($corr=-0.77$), life_expectancy and child_mort ($corr=-0.91$), child_mort and income ($corr=-0.87$)"
   ]
  },
  {
   "cell_type": "markdown",
   "metadata": {},
   "source": [
    "### Cheking the variables distribuition:\n",
    "\n",
    "If the variables have a Shapiro p-value > 0.05, it is considered normally distributed."
   ]
  },
  {
   "cell_type": "code",
   "execution_count": 8,
   "metadata": {
    "execution": {
     "iopub.execute_input": "2023-04-26T19:06:04.035292Z",
     "iopub.status.busy": "2023-04-26T19:06:04.034012Z",
     "iopub.status.idle": "2023-04-26T19:06:05.815717Z",
     "shell.execute_reply": "2023-04-26T19:06:05.814256Z",
     "shell.execute_reply.started": "2023-04-26T19:06:04.035225Z"
    }
   },
   "outputs": [
    {
     "data": {
      "image/png": "[encoded data removed]",
      "text/plain": [
       "<Figure size 864x432 with 9 Axes>"
      ]
     },
     "metadata": {
      "needs_background": "light"
     },
     "output_type": "display_data"
    }
   ],
   "source": [
    "fig, ax = plt.subplots(nrows=3, ncols=3, figsize=(12, 6))\n",
    "fig.suptitle('Feature Density')\n",
    "\n",
    "for i, name in enumerate(df_to_cluster.columns):\n",
    "    plt.subplot(3,3,i+1)\n",
    "    sns.distplot(df_to_cluster[name], kde=False, fit=stats.norm)\n",
    "    plt.ylabel('Density')\n",
    "    plt.title(f'p-value = {stats.shapiro(df_to_cluster[name]).pvalue:.2E}')\n",
    "fig.tight_layout()"
   ]
  },
  {
   "cell_type": "markdown",
   "metadata": {},
   "source": [
    "- Considering a threshold of p-value > 0.05 for being normally distributed, all features above are non-normally distributed. The Health feature is the most well-suited, with a p-value of 0.00062.\n",
    "\n",
    "- Life Expectancy is negatively skewed (or left-skewed) and all the others are positively skewed (or right-skewed)."
   ]
  },
  {
   "cell_type": "markdown",
   "metadata": {},
   "source": [
    "# <center><div style=\"font-family: Trebuchet MS; background-color: #41dcf7; color: #2D2926; padding: 12px; line-height: 1;\">Feature Engineering</div></center>"
   ]
  },
  {
   "cell_type": "markdown",
   "metadata": {},
   "source": [
    "- **Normalization** is a useful technique to rescale features to a similar range of values, typically between $[0, 1]$ or $[-1, 1]$, which can be helpful for many machine learning models. It can also be helpful in adjusting non-Gaussian distribution features. Outliers can have a significant impact on normalization, as they can distort the range of values used for scaling the data. This can result in a compressed range of values for the majority of the data. On the other hand, **Standardization** has no range restrictions and is much less affected by outliers."
   ]
  },
  {
   "cell_type": "code",
   "execution_count": 9,
   "metadata": {
    "execution": {
     "iopub.execute_input": "2023-04-26T19:06:05.818024Z",
     "iopub.status.busy": "2023-04-26T19:06:05.817664Z",
     "iopub.status.idle": "2023-04-26T19:06:05.845726Z",
     "shell.execute_reply": "2023-04-26T19:06:05.844311Z",
     "shell.execute_reply.started": "2023-04-26T19:06:05.817991Z"
    }
   },
   "outputs": [
    {
     "data": {
      "text/html": [
       "<div>\n",
       "<style scoped>\n",
       "    .dataframe tbody tr th:only-of-type {\n",
       "        vertical-align: middle;\n",
       "    }\n",
       "\n",
       "    .dataframe tbody tr th {\n",
       "        vertical-align: top;\n",
       "    }\n",
       "\n",
       "    .dataframe thead th {\n",
       "        text-align: right;\n",
       "    }\n",
       "</style>\n",
       "<table border=\"1\" class=\"dataframe\">\n",
       "  <thead>\n",
       "    <tr style=\"text-align: right;\">\n",
       "      <th></th>\n",
       "      <th>child_mort</th>\n",
       "      <th>exports</th>\n",
       "      <th>health</th>\n",
       "      <th>imports</th>\n",
       "      <th>income</th>\n",
       "      <th>inflation</th>\n",
       "      <th>life_expec</th>\n",
       "      <th>total_fer</th>\n",
       "      <th>gdpp</th>\n",
       "    </tr>\n",
       "  </thead>\n",
       "  <tbody>\n",
       "    <tr>\n",
       "      <th>0</th>\n",
       "      <td>0.426485</td>\n",
       "      <td>0.049482</td>\n",
       "      <td>0.358608</td>\n",
       "      <td>0.257765</td>\n",
       "      <td>0.008047</td>\n",
       "      <td>0.126144</td>\n",
       "      <td>0.475345</td>\n",
       "      <td>0.736593</td>\n",
       "      <td>0.003073</td>\n",
       "    </tr>\n",
       "    <tr>\n",
       "      <th>1</th>\n",
       "      <td>0.068160</td>\n",
       "      <td>0.139531</td>\n",
       "      <td>0.294593</td>\n",
       "      <td>0.279037</td>\n",
       "      <td>0.074933</td>\n",
       "      <td>0.080399</td>\n",
       "      <td>0.871795</td>\n",
       "      <td>0.078864</td>\n",
       "      <td>0.036833</td>\n",
       "    </tr>\n",
       "    <tr>\n",
       "      <th>2</th>\n",
       "      <td>0.120253</td>\n",
       "      <td>0.191559</td>\n",
       "      <td>0.146675</td>\n",
       "      <td>0.180149</td>\n",
       "      <td>0.098809</td>\n",
       "      <td>0.187691</td>\n",
       "      <td>0.875740</td>\n",
       "      <td>0.274448</td>\n",
       "      <td>0.040365</td>\n",
       "    </tr>\n",
       "    <tr>\n",
       "      <th>3</th>\n",
       "      <td>0.566699</td>\n",
       "      <td>0.311125</td>\n",
       "      <td>0.064636</td>\n",
       "      <td>0.246266</td>\n",
       "      <td>0.042535</td>\n",
       "      <td>0.245911</td>\n",
       "      <td>0.552268</td>\n",
       "      <td>0.790221</td>\n",
       "      <td>0.031488</td>\n",
       "    </tr>\n",
       "    <tr>\n",
       "      <th>4</th>\n",
       "      <td>0.037488</td>\n",
       "      <td>0.227079</td>\n",
       "      <td>0.262275</td>\n",
       "      <td>0.338255</td>\n",
       "      <td>0.148652</td>\n",
       "      <td>0.052213</td>\n",
       "      <td>0.881657</td>\n",
       "      <td>0.154574</td>\n",
       "      <td>0.114242</td>\n",
       "    </tr>\n",
       "  </tbody>\n",
       "</table>\n",
       "</div>"
      ],
      "text/plain": [
       "   child_mort   exports    health   imports    income  inflation  life_expec  \\\n",
       "0    0.426485  0.049482  0.358608  0.257765  0.008047   0.126144    0.475345   \n",
       "1    0.068160  0.139531  0.294593  0.279037  0.074933   0.080399    0.871795   \n",
       "2    0.120253  0.191559  0.146675  0.180149  0.098809   0.187691    0.875740   \n",
       "3    0.566699  0.311125  0.064636  0.246266  0.042535   0.245911    0.552268   \n",
       "4    0.037488  0.227079  0.262275  0.338255  0.148652   0.052213    0.881657   \n",
       "\n",
       "   total_fer      gdpp  \n",
       "0   0.736593  0.003073  \n",
       "1   0.078864  0.036833  \n",
       "2   0.274448  0.040365  \n",
       "3   0.790221  0.031488  \n",
       "4   0.154574  0.114242  "
      ]
     },
     "execution_count": 9,
     "metadata": {},
     "output_type": "execute_result"
    }
   ],
   "source": [
    "df_fe = df_to_cluster.copy()\n",
    "\n",
    "norm = MinMaxScaler()\n",
    "stard = StandardScaler()\n",
    "\n",
    "#df_fe[['health']] = stard.fit_transform(df_fe[['health']])\n",
    "cols = df_fe.columns.tolist()\n",
    "#cols.remove('health')\n",
    "\n",
    "df_fe[cols] = norm.fit_transform(df_fe[cols])\n",
    "df_fe.head()"
   ]
  },
  {
   "cell_type": "code",
   "execution_count": 10,
   "metadata": {
    "execution": {
     "iopub.execute_input": "2023-04-26T19:06:05.847737Z",
     "iopub.status.busy": "2023-04-26T19:06:05.847339Z",
     "iopub.status.idle": "2023-04-26T19:06:05.859700Z",
     "shell.execute_reply": "2023-04-26T19:06:05.858435Z",
     "shell.execute_reply.started": "2023-04-26T19:06:05.847700Z"
    }
   },
   "outputs": [
    {
     "name": "stdout",
     "output_type": "stream",
     "text": [
      "[0.55001227 0.6838601  0.80687063 0.9043611  0.94214073 0.97227732]\n"
     ]
    }
   ],
   "source": [
    "#PCA with 95% of variance\n",
    "model_pca = PCA(0.95)\n",
    "df_pca = model_pca.fit_transform(df_fe)\n",
    "print(model_pca.explained_variance_ratio_.cumsum())"
   ]
  },
  {
   "cell_type": "markdown",
   "metadata": {},
   "source": [
    "# <center><div style=\"font-family: Trebuchet MS; background-color: #41dcf7; color: #2D2926; padding: 12px; line-height: 1;\">Clustering Model - Kmeans </div></center>"
   ]
  },
  {
   "cell_type": "markdown",
   "metadata": {},
   "source": [
    "### K-means:"
   ]
  },
  {
   "cell_type": "code",
   "execution_count": 11,
   "metadata": {
    "execution": {
     "iopub.execute_input": "2023-04-26T19:06:05.862858Z",
     "iopub.status.busy": "2023-04-26T19:06:05.862431Z",
     "iopub.status.idle": "2023-04-26T19:06:08.332635Z",
     "shell.execute_reply": "2023-04-26T19:06:08.331681Z",
     "shell.execute_reply.started": "2023-04-26T19:06:05.862821Z"
    }
   },
   "outputs": [
    {
     "data": {
      "image/png": "[encoded data removed]",
      "text/plain": [
       "<Figure size 1152x576 with 4 Axes>"
      ]
     },
     "metadata": {
      "needs_background": "light"
     },
     "output_type": "display_data"
    }
   ],
   "source": [
    "fig, ax = plt.subplots(nrows=2, ncols=2, figsize=(16, 8))\n",
    "fig.suptitle('N-cluster choosing')\n",
    "\n",
    "inert = []; n_clust=11;\n",
    "for i in range(1, n_clust):\n",
    "    model_KMeans = KMeans(n_clusters=i, random_state=12).fit(df_pca)\n",
    "    inert.append(model_KMeans.inertia_)\n",
    "plt.subplot(2,2,1)\n",
    "plt.plot(list(range(1,n_clust)), inert)\n",
    "plt.xlabel('N° clusters')\n",
    "plt.ylabel('Inertia Score')\n",
    "plt.title('Elbow Method')\n",
    "plt.xlim(1,10)\n",
    "plt.grid()\n",
    "\n",
    "\n",
    "sil = []; sil_samples = []\n",
    "for i in range(2, n_clust):\n",
    "    model_KMeans = KMeans(n_clusters=i, random_state=12).fit_predict(df_pca)\n",
    "    sil.append(silhouette_score(df_pca, model_KMeans))\n",
    "    sil_samples.append(silhouette_samples(df_pca, model_KMeans))\n",
    "plt.subplot(2,2,2)\n",
    "plt.plot(list(range(2,n_clust)), sil)\n",
    "plt.xlabel('N° clusters')\n",
    "plt.ylabel('Silhouette Average')\n",
    "plt.title('Silhouette Method')\n",
    "plt.xlim(1,10)\n",
    "plt.grid()\n",
    "\n",
    "\n",
    "#From: https://scikit-learn.org/stable/auto_examples/cluster/plot_kmeans_silhouette_analysis.html\n",
    "list_clust = [3, 4]; l = 0;\n",
    "for p in list_clust:\n",
    "    l+=1\n",
    "    y_lower = 10\n",
    "    n_clusters = p\n",
    "    cluster_labels = KMeans(n_clusters=n_clusters, random_state=12).fit_predict(df_pca)\n",
    "    silhouette_avg = silhouette_score(df_pca, cluster_labels)\n",
    "    sample_silhouette_values = silhouette_samples(df_pca, cluster_labels)\n",
    "    plt.subplot(2,2,2+l)\n",
    "    plt.xlim([-0.1, 1])\n",
    "    plt.ylim([0, len(df_pca) + (n_clusters + 1) * 10])\n",
    "\n",
    "    for i in range(n_clusters):\n",
    "        ith_cluster_silhouette_values = sample_silhouette_values[cluster_labels == i]\n",
    "        ith_cluster_silhouette_values.sort()\n",
    "\n",
    "        size_cluster_i = ith_cluster_silhouette_values.shape[0]\n",
    "        y_upper = y_lower + size_cluster_i\n",
    "\n",
    "        color = cm.nipy_spectral(float(i) / n_clusters)\n",
    "        plt.fill_betweenx(\n",
    "            np.arange(y_lower, y_upper),\n",
    "            0,\n",
    "            ith_cluster_silhouette_values,\n",
    "            #facecolor=color,\n",
    "            #edgecolor=color,\n",
    "            alpha=0.7,\n",
    "        )\n",
    "        plt.text(-0.05, y_lower + 0.5 * size_cluster_i, str(i))\n",
    "        y_lower = y_upper + 10\n",
    "\n",
    "    plt.axvline(x=silhouette_avg, color=\"red\", linestyle=\"--\")\n",
    "    plt.yticks([])  \n",
    "    plt.xticks([-0.1, 0, 0.2, 0.4, 0.6, 0.8, 1])"
   ]
  },
  {
   "cell_type": "markdown",
   "metadata": {},
   "source": [
    "- Elbow method: Looking for the Elbow graph, it's clear that there is an elbow when $n_{cluster} = 3$.\n",
    "- Silhouette Method: The higher the Silhouette Average is, the more suitable it is ($n_{cluster} = 2,~3~or~4$ are good choices). For $n_{cluster} = 3$, the thickness of the plots is more or less similar, so it can be considered a good choice."
   ]
  },
  {
   "cell_type": "code",
   "execution_count": 12,
   "metadata": {
    "execution": {
     "iopub.execute_input": "2023-04-26T19:06:08.334788Z",
     "iopub.status.busy": "2023-04-26T19:06:08.334159Z",
     "iopub.status.idle": "2023-04-26T19:06:08.366841Z",
     "shell.execute_reply": "2023-04-26T19:06:08.365849Z",
     "shell.execute_reply.started": "2023-04-26T19:06:08.334750Z"
    }
   },
   "outputs": [
    {
     "data": {
      "text/plain": [
       "(array([0, 1, 2]), array([35, 46, 86], dtype=int64))"
      ]
     },
     "execution_count": 12,
     "metadata": {},
     "output_type": "execute_result"
    }
   ],
   "source": [
    "# Running Kmeans\n",
    "model_KMeans = KMeans(n_clusters=3, random_state=12)\n",
    "clusters = model_KMeans.fit_predict(df_pca)\n",
    "np.unique(clusters, return_counts=True)"
   ]
  },
  {
   "cell_type": "markdown",
   "metadata": {},
   "source": [
    "### PCA 2D Plot:"
   ]
  },
  {
   "cell_type": "code",
   "execution_count": 13,
   "metadata": {
    "execution": {
     "iopub.execute_input": "2023-04-26T19:10:40.479870Z",
     "iopub.status.busy": "2023-04-26T19:10:40.479210Z",
     "iopub.status.idle": "2023-04-26T19:10:40.697485Z",
     "shell.execute_reply": "2023-04-26T19:10:40.696160Z",
     "shell.execute_reply.started": "2023-04-26T19:10:40.479821Z"
    }
   },
   "outputs": [
    {
     "data": {
      "image/png": "[encoded data removed]",
      "text/plain": [
       "<Figure size 432x288 with 1 Axes>"
      ]
     },
     "metadata": {
      "needs_background": "light"
     },
     "output_type": "display_data"
    }
   ],
   "source": [
    "plt.scatter(df_pca[:,0],df_pca[:,1], c = clusters)\n",
    "plt.scatter(model_KMeans.cluster_centers_[:,0], model_KMeans.cluster_centers_[:,1], \n",
    "            color ='r', marker='^', s=50)\n",
    "plt.title('PCA data')\n",
    "plt.xlabel('1th Component')\n",
    "plt.ylabel('2th Component')\n",
    "plt.show()"
   ]
  },
  {
   "cell_type": "code",
   "execution_count": 14,
   "metadata": {
    "execution": {
     "iopub.status.busy": "2023-04-26T19:06:08.595073Z",
     "iopub.status.idle": "2023-04-26T19:06:08.596079Z",
     "shell.execute_reply": "2023-04-26T19:06:08.595786Z",
     "shell.execute_reply.started": "2023-04-26T19:06:08.595747Z"
    }
   },
   "outputs": [
    {
     "data": {
      "image/png": "[encoded data removed]",
      "text/plain": [
       "<Figure size 1152x360 with 4 Axes>"
      ]
     },
     "metadata": {
      "needs_background": "light"
     },
     "output_type": "display_data"
    }
   ],
   "source": [
    "df['Class'] = clusters\n",
    "fig, ax = plt.subplots(1, 4, figsize=(16,5))\n",
    "fig.suptitle('Key Features vs Classes Boxplot')\n",
    "\n",
    "plt.subplot(1,4,1)\n",
    "sns.boxplot(y='child_mort', x='Class', data=df) \n",
    "\n",
    "plt.subplot(1,4,2)\n",
    "sns.boxplot(y='health', x='Class', data=df) \n",
    "\n",
    "plt.subplot(1,4,3)\n",
    "sns.boxplot(y='income', x='Class', data=df) \n",
    "\n",
    "plt.subplot(1,4,4)\n",
    "sns.boxplot(y='life_expec', x='Class', data=df) \n",
    "\n",
    "fig.tight_layout()"
   ]
  },
  {
   "cell_type": "markdown",
   "metadata": {},
   "source": [
    "- Countries with high health, income, and life expectancy, as well as low child mortality, are considered developed countries and do not require assistance.\n",
    "- Countries with low health, income, and life expectancy, as well as high child mortality, are considered underdeveloped countries and require assistance.\n",
    "- Classes:\n",
    "    - Class 0: Does Not Require Assistance\n",
    "    - Class 1: Require Assistance\n",
    "    - Class 2: May Require Assistance"
   ]
  },
  {
   "cell_type": "code",
   "execution_count": 15,
   "metadata": {
    "execution": {
     "iopub.status.busy": "2023-04-26T19:06:08.597905Z",
     "iopub.status.idle": "2023-04-26T19:06:08.598770Z",
     "shell.execute_reply": "2023-04-26T19:06:08.598557Z",
     "shell.execute_reply.started": "2023-04-26T19:06:08.598528Z"
    }
   },
   "outputs": [
    {
     "data": {
      "application/vnd.plotly.v1+json": {
       "config": {
        "linkText": "Export to plot.ly",
        "plotlyServerURL": "https://plot.ly",
        "showLink": false
       },
       "data": [
        {
         "colorscale": [
          [
           0,
           "Red"
          ],
          [
           1,
           "Red"
          ]
         ],
         "geo": "geo",
         "hovertemplate": "color=Require Assistance<br>country=%{location}<extra></extra>",
         "locationmode": "country names",
         "locations": [
          "Afghanistan",
          "Angola",
          "Benin",
          "Burkina Faso",
          "Burundi",
          "Cameroon",
          "Central African Republic",
          "Chad",
          "Comoros",
          "Congo, Dem. Rep.",
          "Congo, Rep.",
          "Cote d'Ivoire",
          "Equatorial Guinea",
          "Eritrea",
          "Gabon",
          "Gambia",
          "Ghana",
          "Guinea",
          "Guinea-Bissau",
          "Haiti",
          "Iraq",
          "Kenya",
          "Kiribati",
          "Lao",
          "Lesotho",
          "Liberia",
          "Madagascar",
          "Malawi",
          "Mali",
          "Mauritania",
          "Mozambique",
          "Namibia",
          "Niger",
          "Nigeria",
          "Pakistan",
          "Rwanda",
          "Senegal",
          "Sierra Leone",
          "Solomon Islands",
          "Sudan",
          "Tanzania",
          "Timor-Leste",
          "Togo",
          "Uganda",
          "Yemen",
          "Zambia"
         ],
         "name": "Require Assistance",
         "showlegend": true,
         "showscale": false,
         "type": "choropleth",
         "z": [
          1,
          1,
          1,
          1,
          1,
          1,
          1,
          1,
          1,
          1,
          1,
          1,
          1,
          1,
          1,
          1,
          1,
          1,
          1,
          1,
          1,
          1,
          1,
          1,
          1,
          1,
          1,
          1,
          1,
          1,
          1,
          1,
          1,
          1,
          1,
          1,
          1,
          1,
          1,
          1,
          1,
          1,
          1,
          1,
          1,
          1
         ]
        },
        {
         "colorscale": [
          [
           0,
           "Yellow"
          ],
          [
           1,
           "Yellow"
          ]
         ],
         "geo": "geo",
         "hovertemplate": "color=May Require Assistance<br>country=%{location}<extra></extra>",
         "locationmode": "country names",
         "locations": [
          "Albania",
          "Algeria",
          "Antigua and Barbuda",
          "Argentina",
          "Armenia",
          "Azerbaijan",
          "Bahamas",
          "Bahrain",
          "Bangladesh",
          "Barbados",
          "Belarus",
          "Belize",
          "Bhutan",
          "Bolivia",
          "Bosnia and Herzegovina",
          "Botswana",
          "Brazil",
          "Bulgaria",
          "Cambodia",
          "Cape Verde",
          "Chile",
          "China",
          "Colombia",
          "Costa Rica",
          "Croatia",
          "Dominican Republic",
          "Ecuador",
          "Egypt",
          "El Salvador",
          "Estonia",
          "Fiji",
          "Georgia",
          "Grenada",
          "Guatemala",
          "Guyana",
          "Hungary",
          "India",
          "Indonesia",
          "Iran",
          "Jamaica",
          "Jordan",
          "Kazakhstan",
          "Kyrgyz Republic",
          "Latvia",
          "Lebanon",
          "Libya",
          "Lithuania",
          "Macedonia, FYR",
          "Malaysia",
          "Maldives",
          "Mauritius",
          "Micronesia, Fed. Sts.",
          "Moldova",
          "Mongolia",
          "Montenegro",
          "Morocco",
          "Myanmar",
          "Nepal",
          "Oman",
          "Panama",
          "Paraguay",
          "Peru",
          "Philippines",
          "Poland",
          "Romania",
          "Russia",
          "Samoa",
          "Saudi Arabia",
          "Serbia",
          "Seychelles",
          "South Africa",
          "Sri Lanka",
          "St. Vincent and the Grenadines",
          "Suriname",
          "Tajikistan",
          "Thailand",
          "Tonga",
          "Tunisia",
          "Turkey",
          "Turkmenistan",
          "Ukraine",
          "Uruguay",
          "Uzbekistan",
          "Vanuatu",
          "Venezuela",
          "Vietnam"
         ],
         "name": "May Require Assistance",
         "showlegend": true,
         "showscale": false,
         "type": "choropleth",
         "z": [
          1,
          1,
          1,
          1,
          1,
          1,
          1,
          1,
          1,
          1,
          1,
          1,
          1,
          1,
          1,
          1,
          1,
          1,
          1,
          1,
          1,
          1,
          1,
          1,
          1,
          1,
          1,
          1,
          1,
          1,
          1,
          1,
          1,
          1,
          1,
          1,
          1,
          1,
          1,
          1,
          1,
          1,
          1,
          1,
          1,
          1,
          1,
          1,
          1,
          1,
          1,
          1,
          1,
          1,
          1,
          1,
          1,
          1,
          1,
          1,
          1,
          1,
          1,
          1,
          1,
          1,
          1,
          1,
          1,
          1,
          1,
          1,
          1,
          1,
          1,
          1,
          1,
          1,
          1,
          1,
          1,
          1,
          1,
          1,
          1,
          1
         ]
        },
        {
         "colorscale": [
          [
           0,
           "Green"
          ],
          [
           1,
           "Green"
          ]
         ],
         "geo": "geo",
         "hovertemplate": "color=Does Not Require Assistance<br>country=%{location}<extra></extra>",
         "locationmode": "country names",
         "locations": [
          "Australia",
          "Austria",
          "Belgium",
          "Brunei",
          "Canada",
          "Cyprus",
          "Czech Republic",
          "Denmark",
          "Finland",
          "France",
          "Germany",
          "Greece",
          "Iceland",
          "Ireland",
          "Israel",
          "Italy",
          "Japan",
          "Kuwait",
          "Luxembourg",
          "Malta",
          "Netherlands",
          "New Zealand",
          "Norway",
          "Portugal",
          "Qatar",
          "Singapore",
          "Slovak Republic",
          "Slovenia",
          "South Korea",
          "Spain",
          "Sweden",
          "Switzerland",
          "United Arab Emirates",
          "United Kingdom",
          "United States"
         ],
         "name": "Does Not Require Assistance",
         "showlegend": true,
         "showscale": false,
         "type": "choropleth",
         "z": [
          1,
          1,
          1,
          1,
          1,
          1,
          1,
          1,
          1,
          1,
          1,
          1,
          1,
          1,
          1,
          1,
          1,
          1,
          1,
          1,
          1,
          1,
          1,
          1,
          1,
          1,
          1,
          1,
          1,
          1,
          1,
          1,
          1,
          1,
          1
         ]
        }
       ],
       "layout": {
        "geo": {
         "domain": {
          "x": [
           0,
           1
          ],
          "y": [
           0,
           1
          ]
         },
         "fitbounds": "locations",
         "visible": true
        },
        "legend": {
         "title": {
          "side": "top",
          "text": "Labels"
         },
         "tracegroupgap": 0
        },
        "template": {
         "data": {
          "bar": [
           {
            "error_x": {
             "color": "#2a3f5f"
            },
            "error_y": {
             "color": "#2a3f5f"
            },
            "marker": {
             "line": {
              "color": "#E5ECF6",
              "width": 0.5
             },
             "pattern": {
              "fillmode": "overlay",
              "size": 10,
              "solidity": 0.2
             }
            },
            "type": "bar"
           }
          ],
          "barpolar": [
           {
            "marker": {
             "line": {
              "color": "#E5ECF6",
              "width": 0.5
             },
             "pattern": {
              "fillmode": "overlay",
              "size": 10,
              "solidity": 0.2
             }
            },
            "type": "barpolar"
           }
          ],
          "carpet": [
           {
            "aaxis": {
             "endlinecolor": "#2a3f5f",
             "gridcolor": "white",
             "linecolor": "white",
             "minorgridcolor": "white",
             "startlinecolor": "#2a3f5f"
            },
            "baxis": {
             "endlinecolor": "#2a3f5f",
             "gridcolor": "white",
             "linecolor": "white",
             "minorgridcolor": "white",
             "startlinecolor": "#2a3f5f"
            },
            "type": "carpet"
           }
          ],
          "choropleth": [
           {
            "colorbar": {
             "outlinewidth": 0,
             "ticks": ""
            },
            "type": "choropleth"
           }
          ],
          "contour": [
           {
            "colorbar": {
             "outlinewidth": 0,
             "ticks": ""
            },
            "colorscale": [
             [
              0,
              "#0d0887"
             ],
             [
              0.1111111111111111,
              "#46039f"
             ],
             [
              0.2222222222222222,
              "#7201a8"
             ],
             [
              0.3333333333333333,
              "#9c179e"
             ],
             [
              0.4444444444444444,
              "#bd3786"
             ],
             [
              0.5555555555555556,
              "#d8576b"
             ],
             [
              0.6666666666666666,
              "#ed7953"
             ],
             [
              0.7777777777777778,
              "#fb9f3a"
             ],
             [
              0.8888888888888888,
              "#fdca26"
             ],
             [
              1,
              "#f0f921"
             ]
            ],
            "type": "contour"
           }
          ],
          "contourcarpet": [
           {
            "colorbar": {
             "outlinewidth": 0,
             "ticks": ""
            },
            "type": "contourcarpet"
           }
          ],
          "heatmap": [
           {
            "colorbar": {
             "outlinewidth": 0,
             "ticks": ""
            },
            "colorscale": [
             [
              0,
              "#0d0887"
             ],
             [
              0.1111111111111111,
              "#46039f"
             ],
             [
              0.2222222222222222,
              "#7201a8"
             ],
             [
              0.3333333333333333,
              "#9c179e"
             ],
             [
              0.4444444444444444,
              "#bd3786"
             ],
             [
              0.5555555555555556,
              "#d8576b"
             ],
             [
              0.6666666666666666,
              "#ed7953"
             ],
             [
              0.7777777777777778,
              "#fb9f3a"
             ],
             [
              0.8888888888888888,
              "#fdca26"
             ],
             [
              1,
              "#f0f921"
             ]
            ],
            "type": "heatmap"
           }
          ],
          "heatmapgl": [
           {
            "colorbar": {
             "outlinewidth": 0,
             "ticks": ""
            },
            "colorscale": [
             [
              0,
              "#0d0887"
             ],
             [
              0.1111111111111111,
              "#46039f"
             ],
             [
              0.2222222222222222,
              "#7201a8"
             ],
             [
              0.3333333333333333,
              "#9c179e"
             ],
             [
              0.4444444444444444,
              "#bd3786"
             ],
             [
              0.5555555555555556,
              "#d8576b"
             ],
             [
              0.6666666666666666,
              "#ed7953"
             ],
             [
              0.7777777777777778,
              "#fb9f3a"
             ],
             [
              0.8888888888888888,
              "#fdca26"
             ],
             [
              1,
              "#f0f921"
             ]
            ],
            "type": "heatmapgl"
           }
          ],
          "histogram": [
           {
            "marker": {
             "pattern": {
              "fillmode": "overlay",
              "size": 10,
              "solidity": 0.2
             }
            },
            "type": "histogram"
           }
          ],
          "histogram2d": [
           {
            "colorbar": {
             "outlinewidth": 0,
             "ticks": ""
            },
            "colorscale": [
             [
              0,
              "#0d0887"
             ],
             [
              0.1111111111111111,
              "#46039f"
             ],
             [
              0.2222222222222222,
              "#7201a8"
             ],
             [
              0.3333333333333333,
              "#9c179e"
             ],
             [
              0.4444444444444444,
              "#bd3786"
             ],
             [
              0.5555555555555556,
              "#d8576b"
             ],
             [
              0.6666666666666666,
              "#ed7953"
             ],
             [
              0.7777777777777778,
              "#fb9f3a"
             ],
             [
              0.8888888888888888,
              "#fdca26"
             ],
             [
              1,
              "#f0f921"
             ]
            ],
            "type": "histogram2d"
           }
          ],
          "histogram2dcontour": [
           {
            "colorbar": {
             "outlinewidth": 0,
             "ticks": ""
            },
            "colorscale": [
             [
              0,
              "#0d0887"
             ],
             [
              0.1111111111111111,
              "#46039f"
             ],
             [
              0.2222222222222222,
              "#7201a8"
             ],
             [
              0.3333333333333333,
              "#9c179e"
             ],
             [
              0.4444444444444444,
              "#bd3786"
             ],
             [
              0.5555555555555556,
              "#d8576b"
             ],
             [
              0.6666666666666666,
              "#ed7953"
             ],
             [
              0.7777777777777778,
              "#fb9f3a"
             ],
             [
              0.8888888888888888,
              "#fdca26"
             ],
             [
              1,
              "#f0f921"
             ]
            ],
            "type": "histogram2dcontour"
           }
          ],
          "mesh3d": [
           {
            "colorbar": {
             "outlinewidth": 0,
             "ticks": ""
            },
            "type": "mesh3d"
           }
          ],
          "parcoords": [
           {
            "line": {
             "colorbar": {
              "outlinewidth": 0,
              "ticks": ""
             }
            },
            "type": "parcoords"
           }
          ],
          "pie": [
           {
            "automargin": true,
            "type": "pie"
           }
          ],
          "scatter": [
           {
            "marker": {
             "colorbar": {
              "outlinewidth": 0,
              "ticks": ""
             }
            },
            "type": "scatter"
           }
          ],
          "scatter3d": [
           {
            "line": {
             "colorbar": {
              "outlinewidth": 0,
              "ticks": ""
             }
            },
            "marker": {
             "colorbar": {
              "outlinewidth": 0,
              "ticks": ""
             }
            },
            "type": "scatter3d"
           }
          ],
          "scattercarpet": [
           {
            "marker": {
             "colorbar": {
              "outlinewidth": 0,
              "ticks": ""
             }
            },
            "type": "scattercarpet"
           }
          ],
          "scattergeo": [
           {
            "marker": {
             "colorbar": {
              "outlinewidth": 0,
              "ticks": ""
             }
            },
            "type": "scattergeo"
           }
          ],
          "scattergl": [
           {
            "marker": {
             "colorbar": {
              "outlinewidth": 0,
              "ticks": ""
             }
            },
            "type": "scattergl"
           }
          ],
          "scattermapbox": [
           {
            "marker": {
             "colorbar": {
              "outlinewidth": 0,
              "ticks": ""
             }
            },
            "type": "scattermapbox"
           }
          ],
          "scatterpolar": [
           {
            "marker": {
             "colorbar": {
              "outlinewidth": 0,
              "ticks": ""
             }
            },
            "type": "scatterpolar"
           }
          ],
          "scatterpolargl": [
           {
            "marker": {
             "colorbar": {
              "outlinewidth": 0,
              "ticks": ""
             }
            },
            "type": "scatterpolargl"
           }
          ],
          "scatterternary": [
           {
            "marker": {
             "colorbar": {
              "outlinewidth": 0,
              "ticks": ""
             }
            },
            "type": "scatterternary"
           }
          ],
          "surface": [
           {
            "colorbar": {
             "outlinewidth": 0,
             "ticks": ""
            },
            "colorscale": [
             [
              0,
              "#0d0887"
             ],
             [
              0.1111111111111111,
              "#46039f"
             ],
             [
              0.2222222222222222,
              "#7201a8"
             ],
             [
              0.3333333333333333,
              "#9c179e"
             ],
             [
              0.4444444444444444,
              "#bd3786"
             ],
             [
              0.5555555555555556,
              "#d8576b"
             ],
             [
              0.6666666666666666,
              "#ed7953"
             ],
             [
              0.7777777777777778,
              "#fb9f3a"
             ],
             [
              0.8888888888888888,
              "#fdca26"
             ],
             [
              1,
              "#f0f921"
             ]
            ],
            "type": "surface"
           }
          ],
          "table": [
           {
            "cells": {
             "fill": {
              "color": "#EBF0F8"
             },
             "line": {
              "color": "white"
             }
            },
            "header": {
             "fill": {
              "color": "#C8D4E3"
             },
             "line": {
              "color": "white"
             }
            },
            "type": "table"
           }
          ]
         },
         "layout": {
          "annotationdefaults": {
           "arrowcolor": "#2a3f5f",
           "arrowhead": 0,
           "arrowwidth": 1
          },
          "autotypenumbers": "strict",
          "coloraxis": {
           "colorbar": {
            "outlinewidth": 0,
            "ticks": ""
           }
          },
          "colorscale": {
           "diverging": [
            [
             0,
             "#8e0152"
            ],
            [
             0.1,
             "#c51b7d"
            ],
            [
             0.2,
             "#de77ae"
            ],
            [
             0.3,
             "#f1b6da"
            ],
            [
             0.4,
             "#fde0ef"
            ],
            [
             0.5,
             "#f7f7f7"
            ],
            [
             0.6,
             "#e6f5d0"
            ],
            [
             0.7,
             "#b8e186"
            ],
            [
             0.8,
             "#7fbc41"
            ],
            [
             0.9,
             "#4d9221"
            ],
            [
             1,
             "#276419"
            ]
           ],
           "sequential": [
            [
             0,
             "#0d0887"
            ],
            [
             0.1111111111111111,
             "#46039f"
            ],
            [
             0.2222222222222222,
             "#7201a8"
            ],
            [
             0.3333333333333333,
             "#9c179e"
            ],
            [
             0.4444444444444444,
             "#bd3786"
            ],
            [
             0.5555555555555556,
             "#d8576b"
            ],
            [
             0.6666666666666666,
             "#ed7953"
            ],
            [
             0.7777777777777778,
             "#fb9f3a"
            ],
            [
             0.8888888888888888,
             "#fdca26"
            ],
            [
             1,
             "#f0f921"
            ]
           ],
           "sequentialminus": [
            [
             0,
             "#0d0887"
            ],
            [
             0.1111111111111111,
             "#46039f"
            ],
            [
             0.2222222222222222,
             "#7201a8"
            ],
            [
             0.3333333333333333,
             "#9c179e"
            ],
            [
             0.4444444444444444,
             "#bd3786"
            ],
            [
             0.5555555555555556,
             "#d8576b"
            ],
            [
             0.6666666666666666,
             "#ed7953"
            ],
            [
             0.7777777777777778,
             "#fb9f3a"
            ],
            [
             0.8888888888888888,
             "#fdca26"
            ],
            [
             1,
             "#f0f921"
            ]
           ]
          },
          "colorway": [
           "#636efa",
           "#EF553B",
           "#00cc96",
           "#ab63fa",
           "#FFA15A",
           "#19d3f3",
           "#FF6692",
           "#B6E880",
           "#FF97FF",
           "#FECB52"
          ],
          "font": {
           "color": "#2a3f5f"
          },
          "geo": {
           "bgcolor": "white",
           "lakecolor": "white",
           "landcolor": "#E5ECF6",
           "showlakes": true,
           "showland": true,
           "subunitcolor": "white"
          },
          "hoverlabel": {
           "align": "left"
          },
          "hovermode": "closest",
          "mapbox": {
           "style": "light"
          },
          "paper_bgcolor": "white",
          "plot_bgcolor": "#E5ECF6",
          "polar": {
           "angularaxis": {
            "gridcolor": "white",
            "linecolor": "white",
            "ticks": ""
           },
           "bgcolor": "#E5ECF6",
           "radialaxis": {
            "gridcolor": "white",
            "linecolor": "white",
            "ticks": ""
           }
          },
          "scene": {
           "xaxis": {
            "backgroundcolor": "#E5ECF6",
            "gridcolor": "white",
            "gridwidth": 2,
            "linecolor": "white",
            "showbackground": true,
            "ticks": "",
            "zerolinecolor": "white"
           },
           "yaxis": {
            "backgroundcolor": "#E5ECF6",
            "gridcolor": "white",
            "gridwidth": 2,
            "linecolor": "white",
            "showbackground": true,
            "ticks": "",
            "zerolinecolor": "white"
           },
           "zaxis": {
            "backgroundcolor": "#E5ECF6",
            "gridcolor": "white",
            "gridwidth": 2,
            "linecolor": "white",
            "showbackground": true,
            "ticks": "",
            "zerolinecolor": "white"
           }
          },
          "shapedefaults": {
           "line": {
            "color": "#2a3f5f"
           }
          },
          "ternary": {
           "aaxis": {
            "gridcolor": "white",
            "linecolor": "white",
            "ticks": ""
           },
           "baxis": {
            "gridcolor": "white",
            "linecolor": "white",
            "ticks": ""
           },
           "bgcolor": "#E5ECF6",
           "caxis": {
            "gridcolor": "white",
            "linecolor": "white",
            "ticks": ""
           }
          },
          "title": {
           "x": 0.05
          },
          "xaxis": {
           "automargin": true,
           "gridcolor": "white",
           "linecolor": "white",
           "ticks": "",
           "title": {
            "standoff": 15
           },
           "zerolinecolor": "white",
           "zerolinewidth": 2
          },
          "yaxis": {
           "automargin": true,
           "gridcolor": "white",
           "linecolor": "white",
           "ticks": "",
           "title": {
            "standoff": 15
           },
           "zerolinecolor": "white",
           "zerolinewidth": 2
          }
         }
        },
        "title": {
         "pad": {
          "l": 260
         },
         "text": "Assistance Help Per Country (World)",
         "y": 0.86
        }
       }
      },
      "text/html": [
       "<div>                            <div id=\"daad892a-b07e-4f57-9805-d429246cb673\" class=\"plotly-graph-div\" style=\"height:525px; width:100%;\"></div>            <script type=\"text/javascript\">                require([\"plotly\"], function(Plotly) {                    window.PLOTLYENV=window.PLOTLYENV || {};                                    if (document.getElementById(\"daad892a-b07e-4f57-9805-d429246cb673\")) {                    Plotly.newPlot(                        \"daad892a-b07e-4f57-9805-d429246cb673\",                        [{\"colorscale\":[[0.0,\"Red\"],[1.0,\"Red\"]],\"geo\":\"geo\",\"hovertemplate\":\"color=Require Assistance<br>country=%{location}<extra></extra>\",\"locationmode\":\"country names\",\"locations\":[\"Afghanistan\",\"Angola\",\"Benin\",\"Burkina Faso\",\"Burundi\",\"Cameroon\",\"Central African Republic\",\"Chad\",\"Comoros\",\"Congo, Dem. Rep.\",\"Congo, Rep.\",\"Cote d'Ivoire\",\"Equatorial Guinea\",\"Eritrea\",\"Gabon\",\"Gambia\",\"Ghana\",\"Guinea\",\"Guinea-Bissau\",\"Haiti\",\"Iraq\",\"Kenya\",\"Kiribati\",\"Lao\",\"Lesotho\",\"Liberia\",\"Madagascar\",\"Malawi\",\"Mali\",\"Mauritania\",\"Mozambique\",\"Namibia\",\"Niger\",\"Nigeria\",\"Pakistan\",\"Rwanda\",\"Senegal\",\"Sierra Leone\",\"Solomon Islands\",\"Sudan\",\"Tanzania\",\"Timor-Leste\",\"Togo\",\"Uganda\",\"Yemen\",\"Zambia\"],\"name\":\"Require Assistance\",\"showlegend\":true,\"showscale\":false,\"z\":[1,1,1,1,1,1,1,1,1,1,1,1,1,1,1,1,1,1,1,1,1,1,1,1,1,1,1,1,1,1,1,1,1,1,1,1,1,1,1,1,1,1,1,1,1,1],\"type\":\"choropleth\"},{\"colorscale\":[[0.0,\"Yellow\"],[1.0,\"Yellow\"]],\"geo\":\"geo\",\"hovertemplate\":\"color=May Require Assistance<br>country=%{location}<extra></extra>\",\"locationmode\":\"country names\",\"locations\":[\"Albania\",\"Algeria\",\"Antigua and Barbuda\",\"Argentina\",\"Armenia\",\"Azerbaijan\",\"Bahamas\",\"Bahrain\",\"Bangladesh\",\"Barbados\",\"Belarus\",\"Belize\",\"Bhutan\",\"Bolivia\",\"Bosnia and Herzegovina\",\"Botswana\",\"Brazil\",\"Bulgaria\",\"Cambodia\",\"Cape Verde\",\"Chile\",\"China\",\"Colombia\",\"Costa Rica\",\"Croatia\",\"Dominican Republic\",\"Ecuador\",\"Egypt\",\"El Salvador\",\"Estonia\",\"Fiji\",\"Georgia\",\"Grenada\",\"Guatemala\",\"Guyana\",\"Hungary\",\"India\",\"Indonesia\",\"Iran\",\"Jamaica\",\"Jordan\",\"Kazakhstan\",\"Kyrgyz Republic\",\"Latvia\",\"Lebanon\",\"Libya\",\"Lithuania\",\"Macedonia, FYR\",\"Malaysia\",\"Maldives\",\"Mauritius\",\"Micronesia, Fed. Sts.\",\"Moldova\",\"Mongolia\",\"Montenegro\",\"Morocco\",\"Myanmar\",\"Nepal\",\"Oman\",\"Panama\",\"Paraguay\",\"Peru\",\"Philippines\",\"Poland\",\"Romania\",\"Russia\",\"Samoa\",\"Saudi Arabia\",\"Serbia\",\"Seychelles\",\"South Africa\",\"Sri Lanka\",\"St. Vincent and the Grenadines\",\"Suriname\",\"Tajikistan\",\"Thailand\",\"Tonga\",\"Tunisia\",\"Turkey\",\"Turkmenistan\",\"Ukraine\",\"Uruguay\",\"Uzbekistan\",\"Vanuatu\",\"Venezuela\",\"Vietnam\"],\"name\":\"May Require Assistance\",\"showlegend\":true,\"showscale\":false,\"z\":[1,1,1,1,1,1,1,1,1,1,1,1,1,1,1,1,1,1,1,1,1,1,1,1,1,1,1,1,1,1,1,1,1,1,1,1,1,1,1,1,1,1,1,1,1,1,1,1,1,1,1,1,1,1,1,1,1,1,1,1,1,1,1,1,1,1,1,1,1,1,1,1,1,1,1,1,1,1,1,1,1,1,1,1,1,1],\"type\":\"choropleth\"},{\"colorscale\":[[0.0,\"Green\"],[1.0,\"Green\"]],\"geo\":\"geo\",\"hovertemplate\":\"color=Does Not Require Assistance<br>country=%{location}<extra></extra>\",\"locationmode\":\"country names\",\"locations\":[\"Australia\",\"Austria\",\"Belgium\",\"Brunei\",\"Canada\",\"Cyprus\",\"Czech Republic\",\"Denmark\",\"Finland\",\"France\",\"Germany\",\"Greece\",\"Iceland\",\"Ireland\",\"Israel\",\"Italy\",\"Japan\",\"Kuwait\",\"Luxembourg\",\"Malta\",\"Netherlands\",\"New Zealand\",\"Norway\",\"Portugal\",\"Qatar\",\"Singapore\",\"Slovak Republic\",\"Slovenia\",\"South Korea\",\"Spain\",\"Sweden\",\"Switzerland\",\"United Arab Emirates\",\"United Kingdom\",\"United States\"],\"name\":\"Does Not Require Assistance\",\"showlegend\":true,\"showscale\":false,\"z\":[1,1,1,1,1,1,1,1,1,1,1,1,1,1,1,1,1,1,1,1,1,1,1,1,1,1,1,1,1,1,1,1,1,1,1],\"type\":\"choropleth\"}],                        {\"geo\":{\"domain\":{\"x\":[0.0,1.0],\"y\":[0.0,1.0]},\"fitbounds\":\"locations\",\"visible\":true},\"legend\":{\"title\":{\"side\":\"top\",\"text\":\"Labels\"},\"tracegroupgap\":0},\"template\":{\"data\":{\"barpolar\":[{\"marker\":{\"line\":{\"color\":\"#E5ECF6\",\"width\":0.5},\"pattern\":{\"fillmode\":\"overlay\",\"size\":10,\"solidity\":0.2}},\"type\":\"barpolar\"}],\"bar\":[{\"error_x\":{\"color\":\"#2a3f5f\"},\"error_y\":{\"color\":\"#2a3f5f\"},\"marker\":{\"line\":{\"color\":\"#E5ECF6\",\"width\":0.5},\"pattern\":{\"fillmode\":\"overlay\",\"size\":10,\"solidity\":0.2}},\"type\":\"bar\"}],\"carpet\":[{\"aaxis\":{\"endlinecolor\":\"#2a3f5f\",\"gridcolor\":\"white\",\"linecolor\":\"white\",\"minorgridcolor\":\"white\",\"startlinecolor\":\"#2a3f5f\"},\"baxis\":{\"endlinecolor\":\"#2a3f5f\",\"gridcolor\":\"white\",\"linecolor\":\"white\",\"minorgridcolor\":\"white\",\"startlinecolor\":\"#2a3f5f\"},\"type\":\"carpet\"}],\"choropleth\":[{\"colorbar\":{\"outlinewidth\":0,\"ticks\":\"\"},\"type\":\"choropleth\"}],\"contourcarpet\":[{\"colorbar\":{\"outlinewidth\":0,\"ticks\":\"\"},\"type\":\"contourcarpet\"}],\"contour\":[{\"colorbar\":{\"outlinewidth\":0,\"ticks\":\"\"},\"colorscale\":[[0.0,\"#0d0887\"],[0.1111111111111111,\"#46039f\"],[0.2222222222222222,\"#7201a8\"],[0.3333333333333333,\"#9c179e\"],[0.4444444444444444,\"#bd3786\"],[0.5555555555555556,\"#d8576b\"],[0.6666666666666666,\"#ed7953\"],[0.7777777777777778,\"#fb9f3a\"],[0.8888888888888888,\"#fdca26\"],[1.0,\"#f0f921\"]],\"type\":\"contour\"}],\"heatmapgl\":[{\"colorbar\":{\"outlinewidth\":0,\"ticks\":\"\"},\"colorscale\":[[0.0,\"#0d0887\"],[0.1111111111111111,\"#46039f\"],[0.2222222222222222,\"#7201a8\"],[0.3333333333333333,\"#9c179e\"],[0.4444444444444444,\"#bd3786\"],[0.5555555555555556,\"#d8576b\"],[0.6666666666666666,\"#ed7953\"],[0.7777777777777778,\"#fb9f3a\"],[0.8888888888888888,\"#fdca26\"],[1.0,\"#f0f921\"]],\"type\":\"heatmapgl\"}],\"heatmap\":[{\"colorbar\":{\"outlinewidth\":0,\"ticks\":\"\"},\"colorscale\":[[0.0,\"#0d0887\"],[0.1111111111111111,\"#46039f\"],[0.2222222222222222,\"#7201a8\"],[0.3333333333333333,\"#9c179e\"],[0.4444444444444444,\"#bd3786\"],[0.5555555555555556,\"#d8576b\"],[0.6666666666666666,\"#ed7953\"],[0.7777777777777778,\"#fb9f3a\"],[0.8888888888888888,\"#fdca26\"],[1.0,\"#f0f921\"]],\"type\":\"heatmap\"}],\"histogram2dcontour\":[{\"colorbar\":{\"outlinewidth\":0,\"ticks\":\"\"},\"colorscale\":[[0.0,\"#0d0887\"],[0.1111111111111111,\"#46039f\"],[0.2222222222222222,\"#7201a8\"],[0.3333333333333333,\"#9c179e\"],[0.4444444444444444,\"#bd3786\"],[0.5555555555555556,\"#d8576b\"],[0.6666666666666666,\"#ed7953\"],[0.7777777777777778,\"#fb9f3a\"],[0.8888888888888888,\"#fdca26\"],[1.0,\"#f0f921\"]],\"type\":\"histogram2dcontour\"}],\"histogram2d\":[{\"colorbar\":{\"outlinewidth\":0,\"ticks\":\"\"},\"colorscale\":[[0.0,\"#0d0887\"],[0.1111111111111111,\"#46039f\"],[0.2222222222222222,\"#7201a8\"],[0.3333333333333333,\"#9c179e\"],[0.4444444444444444,\"#bd3786\"],[0.5555555555555556,\"#d8576b\"],[0.6666666666666666,\"#ed7953\"],[0.7777777777777778,\"#fb9f3a\"],[0.8888888888888888,\"#fdca26\"],[1.0,\"#f0f921\"]],\"type\":\"histogram2d\"}],\"histogram\":[{\"marker\":{\"pattern\":{\"fillmode\":\"overlay\",\"size\":10,\"solidity\":0.2}},\"type\":\"histogram\"}],\"mesh3d\":[{\"colorbar\":{\"outlinewidth\":0,\"ticks\":\"\"},\"type\":\"mesh3d\"}],\"parcoords\":[{\"line\":{\"colorbar\":{\"outlinewidth\":0,\"ticks\":\"\"}},\"type\":\"parcoords\"}],\"pie\":[{\"automargin\":true,\"type\":\"pie\"}],\"scatter3d\":[{\"line\":{\"colorbar\":{\"outlinewidth\":0,\"ticks\":\"\"}},\"marker\":{\"colorbar\":{\"outlinewidth\":0,\"ticks\":\"\"}},\"type\":\"scatter3d\"}],\"scattercarpet\":[{\"marker\":{\"colorbar\":{\"outlinewidth\":0,\"ticks\":\"\"}},\"type\":\"scattercarpet\"}],\"scattergeo\":[{\"marker\":{\"colorbar\":{\"outlinewidth\":0,\"ticks\":\"\"}},\"type\":\"scattergeo\"}],\"scattergl\":[{\"marker\":{\"colorbar\":{\"outlinewidth\":0,\"ticks\":\"\"}},\"type\":\"scattergl\"}],\"scattermapbox\":[{\"marker\":{\"colorbar\":{\"outlinewidth\":0,\"ticks\":\"\"}},\"type\":\"scattermapbox\"}],\"scatterpolargl\":[{\"marker\":{\"colorbar\":{\"outlinewidth\":0,\"ticks\":\"\"}},\"type\":\"scatterpolargl\"}],\"scatterpolar\":[{\"marker\":{\"colorbar\":{\"outlinewidth\":0,\"ticks\":\"\"}},\"type\":\"scatterpolar\"}],\"scatter\":[{\"marker\":{\"colorbar\":{\"outlinewidth\":0,\"ticks\":\"\"}},\"type\":\"scatter\"}],\"scatterternary\":[{\"marker\":{\"colorbar\":{\"outlinewidth\":0,\"ticks\":\"\"}},\"type\":\"scatterternary\"}],\"surface\":[{\"colorbar\":{\"outlinewidth\":0,\"ticks\":\"\"},\"colorscale\":[[0.0,\"#0d0887\"],[0.1111111111111111,\"#46039f\"],[0.2222222222222222,\"#7201a8\"],[0.3333333333333333,\"#9c179e\"],[0.4444444444444444,\"#bd3786\"],[0.5555555555555556,\"#d8576b\"],[0.6666666666666666,\"#ed7953\"],[0.7777777777777778,\"#fb9f3a\"],[0.8888888888888888,\"#fdca26\"],[1.0,\"#f0f921\"]],\"type\":\"surface\"}],\"table\":[{\"cells\":{\"fill\":{\"color\":\"#EBF0F8\"},\"line\":{\"color\":\"white\"}},\"header\":{\"fill\":{\"color\":\"#C8D4E3\"},\"line\":{\"color\":\"white\"}},\"type\":\"table\"}]},\"layout\":{\"annotationdefaults\":{\"arrowcolor\":\"#2a3f5f\",\"arrowhead\":0,\"arrowwidth\":1},\"autotypenumbers\":\"strict\",\"coloraxis\":{\"colorbar\":{\"outlinewidth\":0,\"ticks\":\"\"}},\"colorscale\":{\"diverging\":[[0,\"#8e0152\"],[0.1,\"#c51b7d\"],[0.2,\"#de77ae\"],[0.3,\"#f1b6da\"],[0.4,\"#fde0ef\"],[0.5,\"#f7f7f7\"],[0.6,\"#e6f5d0\"],[0.7,\"#b8e186\"],[0.8,\"#7fbc41\"],[0.9,\"#4d9221\"],[1,\"#276419\"]],\"sequential\":[[0.0,\"#0d0887\"],[0.1111111111111111,\"#46039f\"],[0.2222222222222222,\"#7201a8\"],[0.3333333333333333,\"#9c179e\"],[0.4444444444444444,\"#bd3786\"],[0.5555555555555556,\"#d8576b\"],[0.6666666666666666,\"#ed7953\"],[0.7777777777777778,\"#fb9f3a\"],[0.8888888888888888,\"#fdca26\"],[1.0,\"#f0f921\"]],\"sequentialminus\":[[0.0,\"#0d0887\"],[0.1111111111111111,\"#46039f\"],[0.2222222222222222,\"#7201a8\"],[0.3333333333333333,\"#9c179e\"],[0.4444444444444444,\"#bd3786\"],[0.5555555555555556,\"#d8576b\"],[0.6666666666666666,\"#ed7953\"],[0.7777777777777778,\"#fb9f3a\"],[0.8888888888888888,\"#fdca26\"],[1.0,\"#f0f921\"]]},\"colorway\":[\"#636efa\",\"#EF553B\",\"#00cc96\",\"#ab63fa\",\"#FFA15A\",\"#19d3f3\",\"#FF6692\",\"#B6E880\",\"#FF97FF\",\"#FECB52\"],\"font\":{\"color\":\"#2a3f5f\"},\"geo\":{\"bgcolor\":\"white\",\"lakecolor\":\"white\",\"landcolor\":\"#E5ECF6\",\"showlakes\":true,\"showland\":true,\"subunitcolor\":\"white\"},\"hoverlabel\":{\"align\":\"left\"},\"hovermode\":\"closest\",\"mapbox\":{\"style\":\"light\"},\"paper_bgcolor\":\"white\",\"plot_bgcolor\":\"#E5ECF6\",\"polar\":{\"angularaxis\":{\"gridcolor\":\"white\",\"linecolor\":\"white\",\"ticks\":\"\"},\"bgcolor\":\"#E5ECF6\",\"radialaxis\":{\"gridcolor\":\"white\",\"linecolor\":\"white\",\"ticks\":\"\"}},\"scene\":{\"xaxis\":{\"backgroundcolor\":\"#E5ECF6\",\"gridcolor\":\"white\",\"gridwidth\":2,\"linecolor\":\"white\",\"showbackground\":true,\"ticks\":\"\",\"zerolinecolor\":\"white\"},\"yaxis\":{\"backgroundcolor\":\"#E5ECF6\",\"gridcolor\":\"white\",\"gridwidth\":2,\"linecolor\":\"white\",\"showbackground\":true,\"ticks\":\"\",\"zerolinecolor\":\"white\"},\"zaxis\":{\"backgroundcolor\":\"#E5ECF6\",\"gridcolor\":\"white\",\"gridwidth\":2,\"linecolor\":\"white\",\"showbackground\":true,\"ticks\":\"\",\"zerolinecolor\":\"white\"}},\"shapedefaults\":{\"line\":{\"color\":\"#2a3f5f\"}},\"ternary\":{\"aaxis\":{\"gridcolor\":\"white\",\"linecolor\":\"white\",\"ticks\":\"\"},\"baxis\":{\"gridcolor\":\"white\",\"linecolor\":\"white\",\"ticks\":\"\"},\"bgcolor\":\"#E5ECF6\",\"caxis\":{\"gridcolor\":\"white\",\"linecolor\":\"white\",\"ticks\":\"\"}},\"title\":{\"x\":0.05},\"xaxis\":{\"automargin\":true,\"gridcolor\":\"white\",\"linecolor\":\"white\",\"ticks\":\"\",\"title\":{\"standoff\":15},\"zerolinecolor\":\"white\",\"zerolinewidth\":2},\"yaxis\":{\"automargin\":true,\"gridcolor\":\"white\",\"linecolor\":\"white\",\"ticks\":\"\",\"title\":{\"standoff\":15},\"zerolinecolor\":\"white\",\"zerolinewidth\":2}}},\"title\":{\"pad\":{\"l\":260},\"text\":\"Assistance Help Per Country (World)\",\"y\":0.86}},                        {\"responsive\": true}                    ).then(function(){\n",
       "                            \n",
       "var gd = document.getElementById('daad892a-b07e-4f57-9805-d429246cb673');\n",
       "var x = new MutationObserver(function (mutations, observer) {{\n",
       "        var display = window.getComputedStyle(gd).display;\n",
       "        if (!display || display === 'none') {{\n",
       "            console.log([gd, 'removed!']);\n",
       "            Plotly.purge(gd);\n",
       "            observer.disconnect();\n",
       "        }}\n",
       "}});\n",
       "\n",
       "// Listen for the removal of the full notebook cells\n",
       "var notebookContainer = gd.closest('#notebook-container');\n",
       "if (notebookContainer) {{\n",
       "    x.observe(notebookContainer, {childList: true});\n",
       "}}\n",
       "\n",
       "// Listen for the clearing of the current output cell\n",
       "var outputEl = gd.closest('.output');\n",
       "if (outputEl) {{\n",
       "    x.observe(outputEl, {childList: true});\n",
       "}}\n",
       "\n",
       "                        })                };                });            </script>        </div>"
      ]
     },
     "metadata": {},
     "output_type": "display_data"
    }
   ],
   "source": [
    "mapping = {0: 'Does Not Require Assistance', 1: 'Require Assistance', 2:'May Require Assistance'}\n",
    "df['Class_name'] = df['Class'].map(mapping)\n",
    "\n",
    "fig2 = px.choropleth(df[['country','Class_name']],\n",
    "                    locationmode = 'country names',\n",
    "                    locations = 'country',\n",
    "                    title = 'Assistance Help Per Country (World)',\n",
    "                    color = df['Class_name'],\n",
    "                    color_discrete_map = {'Require Assistance':'Red',\n",
    "                                        'Does Not Require Assistance':'Green',\n",
    "                                        'May Require Assistance':'Yellow'}\n",
    "                   )\n",
    "fig2.update_geos(fitbounds = \"locations\", visible = True)\n",
    "fig2.update_layout(legend_title_text = 'Labels',legend_title_side = 'top',title_pad_l = 260,title_y = 0.86)\n",
    "pyo.iplot(fig2)\n",
    "#fig2.show(engine = 'kaleido')\n",
    "#fig2.write_image(\"color_map.jpeg\")"
   ]
  },
  {
   "cell_type": "markdown",
   "metadata": {},
   "source": [
    "- In the above image, we can identify three groups of countries: those in green with good indices that do not require assistance (North America, Western Europe, and some parts of Oceania); those in yellow with moderate indices that may require assistance (South America, most of Asia, North and South Africa); and those in red with low indices that require assistance (Central Africa and some countries in the Middle East)."
   ]
  }
 ],
 "metadata": {
  "kernelspec": {
   "display_name": "Python 3 (ipykernel)",
   "language": "python",
   "name": "python3"
  },
  "language_info": {
   "codemirror_mode": {
    "name": "ipython",
    "version": 3
   },
   "file_extension": ".py",
   "mimetype": "text/x-python",
   "name": "python",
   "nbconvert_exporter": "python",
   "pygments_lexer": "ipython3",
   "version": "3.9.12"
  }
 },
 "nbformat": 4,
 "nbformat_minor": 4
}
